{
  "cells": [
    {
      "cell_type": "markdown",
      "metadata": {
        "id": "view-in-github",
        "colab_type": "text"
      },
      "source": [
        "<a href=\"https://colab.research.google.com/github/IvanKatorgin/Workshops-and-hackathons/blob/main/%D0%A2%D0%B5%D1%81%D1%82%D0%BE%D0%B2%D0%BE%D0%B5_%D0%B7%D0%B0%D0%B4%D0%B0%D0%BD%D0%B8%D0%B5_%D0%BE%D1%82_%D0%BA%D0%BE%D0%BC%D0%BF%D0%B0%D0%BD%D0%B8%D0%B8_%D0%9C%D0%BE%D0%BA%D0%BA%D0%B0.ipynb\" target=\"_parent\"><img src=\"https://colab.research.google.com/assets/colab-badge.svg\" alt=\"Open In Colab\"/></a>"
      ]
    },
    {
      "cell_type": "markdown",
      "metadata": {
        "id": "w0MgadR05KU0"
      },
      "source": [
        "Тестовое задание от компании Мокка"
      ]
    },
    {
      "cell_type": "markdown",
      "metadata": {
        "id": "Lvzy8ps04ndl"
      },
      "source": [
        "##Описание задания:\n",
        "\n",
        "В файле revo_ds_test_task.csv собраны данные по повторным займам текущих клиентов компании.\n",
        "\n",
        "По имеющемуся набору данных, необходимо:\n",
        "1. построить модель, которая будет прогнозировать значение целевой переменной bad_flag\n",
        "2. подготовить небольшую презентацию (1-2 слайда), в которой аргументируется выбор модели и показан предполагаемый уровень дефолтности при различных уровнях одобрения"
      ]
    },
    {
      "cell_type": "code",
      "execution_count": 1,
      "metadata": {
        "id": "JmDyPQyb4Pid"
      },
      "outputs": [],
      "source": [
        "import pandas as pd, numpy as np, re, matplotlib.pyplot as plt, seaborn as sns, xgboost, sklearn.metrics\n",
        "%matplotlib inline\n",
        "\n",
        "from sklearn.feature_extraction.text import CountVectorizer\n",
        "from sklearn.model_selection import train_test_split\n",
        "from sklearn.linear_model import LogisticRegression\n",
        "from sklearn.metrics import accuracy_score, roc_auc_score\n",
        "\n",
        "import warnings\n",
        "warnings.filterwarnings('ignore')"
      ]
    },
    {
      "cell_type": "code",
      "execution_count": 2,
      "metadata": {
        "id": "y1mbUwZB4Pie"
      },
      "outputs": [],
      "source": [
        "data = pd.read_csv('revo_ds_test_task.csv')"
      ]
    },
    {
      "cell_type": "code",
      "execution_count": 3,
      "metadata": {
        "colab": {
          "base_uri": "https://localhost:8080/",
          "height": 255
        },
        "id": "WW-x1cFI4Pif",
        "outputId": "4b36028e-316d-497e-e2bb-749d1ae86133"
      },
      "outputs": [
        {
          "output_type": "execute_result",
          "data": {
            "text/plain": [
              "   loanKey rep_loan_date  first_loan  dpd_5_cnt  dpd_15_cnt  dpd_30_cnt  \\\n",
              "0   708382    2016-10-06  2015-11-13        NaN         NaN         NaN   \n",
              "1   406305    2016-03-26  2015-09-28        1.0         0.0         0.0   \n",
              "2   779736    2016-10-30  2015-12-21        NaN         NaN         NaN   \n",
              "3   556376    2016-06-29  2015-06-30        NaN         NaN         NaN   \n",
              "4   266968    2015-12-01  2015-08-03        NaN         NaN         NaN   \n",
              "\n",
              "  first_overdue_date  close_loans_cnt federal_district_nm  TraderKey  ...  \\\n",
              "0                NaN              3.0            region_6          6  ...   \n",
              "1         2016-01-30              0.0            region_6          6  ...   \n",
              "2                NaN              2.0            region_1          6  ...   \n",
              "3                NaN              1.0            region_6         14  ...   \n",
              "4                NaN              0.0            region_5         22  ...   \n",
              "\n",
              "   payment_type_2  payment_type_3  payment_type_4  payment_type_5  \\\n",
              "0              10               0               0               0   \n",
              "1               6               0               0               0   \n",
              "2               0               5               0               0   \n",
              "3               4               0               0               0   \n",
              "4               0               0               0               0   \n",
              "\n",
              "   past_billings_cnt  score_1  score_2   age  gender  bad_flag  \n",
              "0               10.0      NaN      NaN  21.0   False         0  \n",
              "1                5.0      NaN      NaN  20.0   False         0  \n",
              "2                5.0      NaN      NaN  19.0   False         0  \n",
              "3                6.0      NaN      NaN  21.0   False         0  \n",
              "4                3.0      NaN      NaN  33.0   False         0  \n",
              "\n",
              "[5 rows x 22 columns]"
            ],
            "text/html": [
              "\n",
              "  <div id=\"df-6e2d107c-9c0f-43bb-9029-ad213e5cf754\" class=\"colab-df-container\">\n",
              "    <div>\n",
              "<style scoped>\n",
              "    .dataframe tbody tr th:only-of-type {\n",
              "        vertical-align: middle;\n",
              "    }\n",
              "\n",
              "    .dataframe tbody tr th {\n",
              "        vertical-align: top;\n",
              "    }\n",
              "\n",
              "    .dataframe thead th {\n",
              "        text-align: right;\n",
              "    }\n",
              "</style>\n",
              "<table border=\"1\" class=\"dataframe\">\n",
              "  <thead>\n",
              "    <tr style=\"text-align: right;\">\n",
              "      <th></th>\n",
              "      <th>loanKey</th>\n",
              "      <th>rep_loan_date</th>\n",
              "      <th>first_loan</th>\n",
              "      <th>dpd_5_cnt</th>\n",
              "      <th>dpd_15_cnt</th>\n",
              "      <th>dpd_30_cnt</th>\n",
              "      <th>first_overdue_date</th>\n",
              "      <th>close_loans_cnt</th>\n",
              "      <th>federal_district_nm</th>\n",
              "      <th>TraderKey</th>\n",
              "      <th>...</th>\n",
              "      <th>payment_type_2</th>\n",
              "      <th>payment_type_3</th>\n",
              "      <th>payment_type_4</th>\n",
              "      <th>payment_type_5</th>\n",
              "      <th>past_billings_cnt</th>\n",
              "      <th>score_1</th>\n",
              "      <th>score_2</th>\n",
              "      <th>age</th>\n",
              "      <th>gender</th>\n",
              "      <th>bad_flag</th>\n",
              "    </tr>\n",
              "  </thead>\n",
              "  <tbody>\n",
              "    <tr>\n",
              "      <th>0</th>\n",
              "      <td>708382</td>\n",
              "      <td>2016-10-06</td>\n",
              "      <td>2015-11-13</td>\n",
              "      <td>NaN</td>\n",
              "      <td>NaN</td>\n",
              "      <td>NaN</td>\n",
              "      <td>NaN</td>\n",
              "      <td>3.0</td>\n",
              "      <td>region_6</td>\n",
              "      <td>6</td>\n",
              "      <td>...</td>\n",
              "      <td>10</td>\n",
              "      <td>0</td>\n",
              "      <td>0</td>\n",
              "      <td>0</td>\n",
              "      <td>10.0</td>\n",
              "      <td>NaN</td>\n",
              "      <td>NaN</td>\n",
              "      <td>21.0</td>\n",
              "      <td>False</td>\n",
              "      <td>0</td>\n",
              "    </tr>\n",
              "    <tr>\n",
              "      <th>1</th>\n",
              "      <td>406305</td>\n",
              "      <td>2016-03-26</td>\n",
              "      <td>2015-09-28</td>\n",
              "      <td>1.0</td>\n",
              "      <td>0.0</td>\n",
              "      <td>0.0</td>\n",
              "      <td>2016-01-30</td>\n",
              "      <td>0.0</td>\n",
              "      <td>region_6</td>\n",
              "      <td>6</td>\n",
              "      <td>...</td>\n",
              "      <td>6</td>\n",
              "      <td>0</td>\n",
              "      <td>0</td>\n",
              "      <td>0</td>\n",
              "      <td>5.0</td>\n",
              "      <td>NaN</td>\n",
              "      <td>NaN</td>\n",
              "      <td>20.0</td>\n",
              "      <td>False</td>\n",
              "      <td>0</td>\n",
              "    </tr>\n",
              "    <tr>\n",
              "      <th>2</th>\n",
              "      <td>779736</td>\n",
              "      <td>2016-10-30</td>\n",
              "      <td>2015-12-21</td>\n",
              "      <td>NaN</td>\n",
              "      <td>NaN</td>\n",
              "      <td>NaN</td>\n",
              "      <td>NaN</td>\n",
              "      <td>2.0</td>\n",
              "      <td>region_1</td>\n",
              "      <td>6</td>\n",
              "      <td>...</td>\n",
              "      <td>0</td>\n",
              "      <td>5</td>\n",
              "      <td>0</td>\n",
              "      <td>0</td>\n",
              "      <td>5.0</td>\n",
              "      <td>NaN</td>\n",
              "      <td>NaN</td>\n",
              "      <td>19.0</td>\n",
              "      <td>False</td>\n",
              "      <td>0</td>\n",
              "    </tr>\n",
              "    <tr>\n",
              "      <th>3</th>\n",
              "      <td>556376</td>\n",
              "      <td>2016-06-29</td>\n",
              "      <td>2015-06-30</td>\n",
              "      <td>NaN</td>\n",
              "      <td>NaN</td>\n",
              "      <td>NaN</td>\n",
              "      <td>NaN</td>\n",
              "      <td>1.0</td>\n",
              "      <td>region_6</td>\n",
              "      <td>14</td>\n",
              "      <td>...</td>\n",
              "      <td>4</td>\n",
              "      <td>0</td>\n",
              "      <td>0</td>\n",
              "      <td>0</td>\n",
              "      <td>6.0</td>\n",
              "      <td>NaN</td>\n",
              "      <td>NaN</td>\n",
              "      <td>21.0</td>\n",
              "      <td>False</td>\n",
              "      <td>0</td>\n",
              "    </tr>\n",
              "    <tr>\n",
              "      <th>4</th>\n",
              "      <td>266968</td>\n",
              "      <td>2015-12-01</td>\n",
              "      <td>2015-08-03</td>\n",
              "      <td>NaN</td>\n",
              "      <td>NaN</td>\n",
              "      <td>NaN</td>\n",
              "      <td>NaN</td>\n",
              "      <td>0.0</td>\n",
              "      <td>region_5</td>\n",
              "      <td>22</td>\n",
              "      <td>...</td>\n",
              "      <td>0</td>\n",
              "      <td>0</td>\n",
              "      <td>0</td>\n",
              "      <td>0</td>\n",
              "      <td>3.0</td>\n",
              "      <td>NaN</td>\n",
              "      <td>NaN</td>\n",
              "      <td>33.0</td>\n",
              "      <td>False</td>\n",
              "      <td>0</td>\n",
              "    </tr>\n",
              "  </tbody>\n",
              "</table>\n",
              "<p>5 rows × 22 columns</p>\n",
              "</div>\n",
              "    <div class=\"colab-df-buttons\">\n",
              "\n",
              "  <div class=\"colab-df-container\">\n",
              "    <button class=\"colab-df-convert\" onclick=\"convertToInteractive('df-6e2d107c-9c0f-43bb-9029-ad213e5cf754')\"\n",
              "            title=\"Convert this dataframe to an interactive table.\"\n",
              "            style=\"display:none;\">\n",
              "\n",
              "  <svg xmlns=\"http://www.w3.org/2000/svg\" height=\"24px\" viewBox=\"0 -960 960 960\">\n",
              "    <path d=\"M120-120v-720h720v720H120Zm60-500h600v-160H180v160Zm220 220h160v-160H400v160Zm0 220h160v-160H400v160ZM180-400h160v-160H180v160Zm440 0h160v-160H620v160ZM180-180h160v-160H180v160Zm440 0h160v-160H620v160Z\"/>\n",
              "  </svg>\n",
              "    </button>\n",
              "\n",
              "  <style>\n",
              "    .colab-df-container {\n",
              "      display:flex;\n",
              "      gap: 12px;\n",
              "    }\n",
              "\n",
              "    .colab-df-convert {\n",
              "      background-color: #E8F0FE;\n",
              "      border: none;\n",
              "      border-radius: 50%;\n",
              "      cursor: pointer;\n",
              "      display: none;\n",
              "      fill: #1967D2;\n",
              "      height: 32px;\n",
              "      padding: 0 0 0 0;\n",
              "      width: 32px;\n",
              "    }\n",
              "\n",
              "    .colab-df-convert:hover {\n",
              "      background-color: #E2EBFA;\n",
              "      box-shadow: 0px 1px 2px rgba(60, 64, 67, 0.3), 0px 1px 3px 1px rgba(60, 64, 67, 0.15);\n",
              "      fill: #174EA6;\n",
              "    }\n",
              "\n",
              "    .colab-df-buttons div {\n",
              "      margin-bottom: 4px;\n",
              "    }\n",
              "\n",
              "    [theme=dark] .colab-df-convert {\n",
              "      background-color: #3B4455;\n",
              "      fill: #D2E3FC;\n",
              "    }\n",
              "\n",
              "    [theme=dark] .colab-df-convert:hover {\n",
              "      background-color: #434B5C;\n",
              "      box-shadow: 0px 1px 3px 1px rgba(0, 0, 0, 0.15);\n",
              "      filter: drop-shadow(0px 1px 2px rgba(0, 0, 0, 0.3));\n",
              "      fill: #FFFFFF;\n",
              "    }\n",
              "  </style>\n",
              "\n",
              "    <script>\n",
              "      const buttonEl =\n",
              "        document.querySelector('#df-6e2d107c-9c0f-43bb-9029-ad213e5cf754 button.colab-df-convert');\n",
              "      buttonEl.style.display =\n",
              "        google.colab.kernel.accessAllowed ? 'block' : 'none';\n",
              "\n",
              "      async function convertToInteractive(key) {\n",
              "        const element = document.querySelector('#df-6e2d107c-9c0f-43bb-9029-ad213e5cf754');\n",
              "        const dataTable =\n",
              "          await google.colab.kernel.invokeFunction('convertToInteractive',\n",
              "                                                    [key], {});\n",
              "        if (!dataTable) return;\n",
              "\n",
              "        const docLinkHtml = 'Like what you see? Visit the ' +\n",
              "          '<a target=\"_blank\" href=https://colab.research.google.com/notebooks/data_table.ipynb>data table notebook</a>'\n",
              "          + ' to learn more about interactive tables.';\n",
              "        element.innerHTML = '';\n",
              "        dataTable['output_type'] = 'display_data';\n",
              "        await google.colab.output.renderOutput(dataTable, element);\n",
              "        const docLink = document.createElement('div');\n",
              "        docLink.innerHTML = docLinkHtml;\n",
              "        element.appendChild(docLink);\n",
              "      }\n",
              "    </script>\n",
              "  </div>\n",
              "\n",
              "\n",
              "<div id=\"df-a751bc09-8cab-4ec8-a447-ef55a3983cfb\">\n",
              "  <button class=\"colab-df-quickchart\" onclick=\"quickchart('df-a751bc09-8cab-4ec8-a447-ef55a3983cfb')\"\n",
              "            title=\"Suggest charts\"\n",
              "            style=\"display:none;\">\n",
              "\n",
              "<svg xmlns=\"http://www.w3.org/2000/svg\" height=\"24px\"viewBox=\"0 0 24 24\"\n",
              "     width=\"24px\">\n",
              "    <g>\n",
              "        <path d=\"M19 3H5c-1.1 0-2 .9-2 2v14c0 1.1.9 2 2 2h14c1.1 0 2-.9 2-2V5c0-1.1-.9-2-2-2zM9 17H7v-7h2v7zm4 0h-2V7h2v10zm4 0h-2v-4h2v4z\"/>\n",
              "    </g>\n",
              "</svg>\n",
              "  </button>\n",
              "\n",
              "<style>\n",
              "  .colab-df-quickchart {\n",
              "      --bg-color: #E8F0FE;\n",
              "      --fill-color: #1967D2;\n",
              "      --hover-bg-color: #E2EBFA;\n",
              "      --hover-fill-color: #174EA6;\n",
              "      --disabled-fill-color: #AAA;\n",
              "      --disabled-bg-color: #DDD;\n",
              "  }\n",
              "\n",
              "  [theme=dark] .colab-df-quickchart {\n",
              "      --bg-color: #3B4455;\n",
              "      --fill-color: #D2E3FC;\n",
              "      --hover-bg-color: #434B5C;\n",
              "      --hover-fill-color: #FFFFFF;\n",
              "      --disabled-bg-color: #3B4455;\n",
              "      --disabled-fill-color: #666;\n",
              "  }\n",
              "\n",
              "  .colab-df-quickchart {\n",
              "    background-color: var(--bg-color);\n",
              "    border: none;\n",
              "    border-radius: 50%;\n",
              "    cursor: pointer;\n",
              "    display: none;\n",
              "    fill: var(--fill-color);\n",
              "    height: 32px;\n",
              "    padding: 0;\n",
              "    width: 32px;\n",
              "  }\n",
              "\n",
              "  .colab-df-quickchart:hover {\n",
              "    background-color: var(--hover-bg-color);\n",
              "    box-shadow: 0 1px 2px rgba(60, 64, 67, 0.3), 0 1px 3px 1px rgba(60, 64, 67, 0.15);\n",
              "    fill: var(--button-hover-fill-color);\n",
              "  }\n",
              "\n",
              "  .colab-df-quickchart-complete:disabled,\n",
              "  .colab-df-quickchart-complete:disabled:hover {\n",
              "    background-color: var(--disabled-bg-color);\n",
              "    fill: var(--disabled-fill-color);\n",
              "    box-shadow: none;\n",
              "  }\n",
              "\n",
              "  .colab-df-spinner {\n",
              "    border: 2px solid var(--fill-color);\n",
              "    border-color: transparent;\n",
              "    border-bottom-color: var(--fill-color);\n",
              "    animation:\n",
              "      spin 1s steps(1) infinite;\n",
              "  }\n",
              "\n",
              "  @keyframes spin {\n",
              "    0% {\n",
              "      border-color: transparent;\n",
              "      border-bottom-color: var(--fill-color);\n",
              "      border-left-color: var(--fill-color);\n",
              "    }\n",
              "    20% {\n",
              "      border-color: transparent;\n",
              "      border-left-color: var(--fill-color);\n",
              "      border-top-color: var(--fill-color);\n",
              "    }\n",
              "    30% {\n",
              "      border-color: transparent;\n",
              "      border-left-color: var(--fill-color);\n",
              "      border-top-color: var(--fill-color);\n",
              "      border-right-color: var(--fill-color);\n",
              "    }\n",
              "    40% {\n",
              "      border-color: transparent;\n",
              "      border-right-color: var(--fill-color);\n",
              "      border-top-color: var(--fill-color);\n",
              "    }\n",
              "    60% {\n",
              "      border-color: transparent;\n",
              "      border-right-color: var(--fill-color);\n",
              "    }\n",
              "    80% {\n",
              "      border-color: transparent;\n",
              "      border-right-color: var(--fill-color);\n",
              "      border-bottom-color: var(--fill-color);\n",
              "    }\n",
              "    90% {\n",
              "      border-color: transparent;\n",
              "      border-bottom-color: var(--fill-color);\n",
              "    }\n",
              "  }\n",
              "</style>\n",
              "\n",
              "  <script>\n",
              "    async function quickchart(key) {\n",
              "      const quickchartButtonEl =\n",
              "        document.querySelector('#' + key + ' button');\n",
              "      quickchartButtonEl.disabled = true;  // To prevent multiple clicks.\n",
              "      quickchartButtonEl.classList.add('colab-df-spinner');\n",
              "      try {\n",
              "        const charts = await google.colab.kernel.invokeFunction(\n",
              "            'suggestCharts', [key], {});\n",
              "      } catch (error) {\n",
              "        console.error('Error during call to suggestCharts:', error);\n",
              "      }\n",
              "      quickchartButtonEl.classList.remove('colab-df-spinner');\n",
              "      quickchartButtonEl.classList.add('colab-df-quickchart-complete');\n",
              "    }\n",
              "    (() => {\n",
              "      let quickchartButtonEl =\n",
              "        document.querySelector('#df-a751bc09-8cab-4ec8-a447-ef55a3983cfb button');\n",
              "      quickchartButtonEl.style.display =\n",
              "        google.colab.kernel.accessAllowed ? 'block' : 'none';\n",
              "    })();\n",
              "  </script>\n",
              "</div>\n",
              "    </div>\n",
              "  </div>\n"
            ],
            "application/vnd.google.colaboratory.intrinsic+json": {
              "type": "dataframe",
              "variable_name": "data"
            }
          },
          "metadata": {},
          "execution_count": 3
        }
      ],
      "source": [
        "data.head()"
      ]
    },
    {
      "cell_type": "code",
      "execution_count": 4,
      "metadata": {
        "colab": {
          "base_uri": "https://localhost:8080/"
        },
        "id": "3u6kVlgk6vaR",
        "outputId": "d185d0de-86bf-42e6-8223-ff90391aa459"
      },
      "outputs": [
        {
          "output_type": "execute_result",
          "data": {
            "text/plain": [
              "(4157, 22)"
            ]
          },
          "metadata": {},
          "execution_count": 4
        }
      ],
      "source": [
        "data.shape"
      ]
    },
    {
      "cell_type": "code",
      "execution_count": 5,
      "metadata": {
        "colab": {
          "base_uri": "https://localhost:8080/"
        },
        "id": "cPY178Pn6xvJ",
        "outputId": "83c7effc-a5cd-4e4d-fdbf-d7d4106920a0"
      },
      "outputs": [
        {
          "output_type": "stream",
          "name": "stdout",
          "text": [
            "<class 'pandas.core.frame.DataFrame'>\n",
            "RangeIndex: 4157 entries, 0 to 4156\n",
            "Data columns (total 22 columns):\n",
            " #   Column               Non-Null Count  Dtype  \n",
            "---  ------               --------------  -----  \n",
            " 0   loanKey              4157 non-null   int64  \n",
            " 1   rep_loan_date        4157 non-null   object \n",
            " 2   first_loan           4157 non-null   object \n",
            " 3   dpd_5_cnt            675 non-null    float64\n",
            " 4   dpd_15_cnt           675 non-null    float64\n",
            " 5   dpd_30_cnt           675 non-null    float64\n",
            " 6   first_overdue_date   675 non-null    object \n",
            " 7   close_loans_cnt      4142 non-null   float64\n",
            " 8   federal_district_nm  4146 non-null   object \n",
            " 9   TraderKey            4157 non-null   int64  \n",
            " 10  payment_type_0       4157 non-null   int64  \n",
            " 11  payment_type_1       4157 non-null   int64  \n",
            " 12  payment_type_2       4157 non-null   int64  \n",
            " 13  payment_type_3       4157 non-null   int64  \n",
            " 14  payment_type_4       4157 non-null   int64  \n",
            " 15  payment_type_5       4157 non-null   int64  \n",
            " 16  past_billings_cnt    3909 non-null   float64\n",
            " 17  score_1              3507 non-null   float64\n",
            " 18  score_2              239 non-null    float64\n",
            " 19  age                  4157 non-null   float64\n",
            " 20  gender               4157 non-null   bool   \n",
            " 21  bad_flag             4157 non-null   int64  \n",
            "dtypes: bool(1), float64(8), int64(9), object(4)\n",
            "memory usage: 686.2+ KB\n"
          ]
        }
      ],
      "source": [
        "data.info()"
      ]
    },
    {
      "cell_type": "code",
      "execution_count": 6,
      "metadata": {
        "colab": {
          "base_uri": "https://localhost:8080/",
          "height": 320
        },
        "id": "RH5hb-SE4Pig",
        "outputId": "f290086c-cb63-4511-eae8-5172869f32de"
      },
      "outputs": [
        {
          "output_type": "execute_result",
          "data": {
            "text/plain": [
              "             loanKey   dpd_5_cnt  dpd_15_cnt  dpd_30_cnt  close_loans_cnt  \\\n",
              "count    4157.000000  675.000000  675.000000  675.000000      4142.000000   \n",
              "mean   525386.651431    1.444444    0.733333    0.280000         1.184693   \n",
              "std    202001.338206    0.900599    0.764572    0.502339         1.723715   \n",
              "min     58567.000000    0.000000    0.000000    0.000000         0.000000   \n",
              "25%    363964.000000    1.000000    0.000000    0.000000         0.000000   \n",
              "50%    543603.000000    1.000000    1.000000    0.000000         1.000000   \n",
              "75%    687271.000000    2.000000    1.000000    1.000000         2.000000   \n",
              "max    884377.000000    7.000000    5.000000    3.000000        31.000000   \n",
              "\n",
              "         TraderKey  payment_type_0  payment_type_1  payment_type_2  \\\n",
              "count  4157.000000     4157.000000     4157.000000     4157.000000   \n",
              "mean     12.338225        0.018523        0.596103        3.755834   \n",
              "std       9.902927        0.330359        2.564887        3.810703   \n",
              "min       1.000000        0.000000        0.000000        0.000000   \n",
              "25%       6.000000        0.000000        0.000000        1.000000   \n",
              "50%       6.000000        0.000000        0.000000        3.000000   \n",
              "75%      14.000000        0.000000        0.000000        6.000000   \n",
              "max      80.000000       15.000000       81.000000       33.000000   \n",
              "\n",
              "       payment_type_3  payment_type_4  payment_type_5  past_billings_cnt  \\\n",
              "count     4157.000000     4157.000000          4157.0        3909.000000   \n",
              "mean         0.758239        0.019485             0.0           4.979023   \n",
              "std          2.212487        0.245960             0.0           3.491556   \n",
              "min          0.000000        0.000000             0.0           1.000000   \n",
              "25%          0.000000        0.000000             0.0           2.000000   \n",
              "50%          0.000000        0.000000             0.0           4.000000   \n",
              "75%          0.000000        0.000000             0.0           6.000000   \n",
              "max         35.000000        7.000000             0.0          21.000000   \n",
              "\n",
              "           score_1     score_2          age     bad_flag  \n",
              "count  3507.000000  239.000000  4157.000000  4157.000000  \n",
              "mean    578.911345  552.546610    34.561222     0.100313  \n",
              "std      48.989869   21.492840    10.834143     0.300453  \n",
              "min     384.220628  485.874267    18.000000     0.000000  \n",
              "25%     547.429791  535.545724    26.000000     0.000000  \n",
              "50%     588.531315  556.757944    32.000000     0.000000  \n",
              "75%     612.323090  567.608057    41.000000     0.000000  \n",
              "max     691.528420  603.311653    74.000000     1.000000  "
            ],
            "text/html": [
              "\n",
              "  <div id=\"df-73509730-980d-4bc6-b00b-19e6c46fb032\" class=\"colab-df-container\">\n",
              "    <div>\n",
              "<style scoped>\n",
              "    .dataframe tbody tr th:only-of-type {\n",
              "        vertical-align: middle;\n",
              "    }\n",
              "\n",
              "    .dataframe tbody tr th {\n",
              "        vertical-align: top;\n",
              "    }\n",
              "\n",
              "    .dataframe thead th {\n",
              "        text-align: right;\n",
              "    }\n",
              "</style>\n",
              "<table border=\"1\" class=\"dataframe\">\n",
              "  <thead>\n",
              "    <tr style=\"text-align: right;\">\n",
              "      <th></th>\n",
              "      <th>loanKey</th>\n",
              "      <th>dpd_5_cnt</th>\n",
              "      <th>dpd_15_cnt</th>\n",
              "      <th>dpd_30_cnt</th>\n",
              "      <th>close_loans_cnt</th>\n",
              "      <th>TraderKey</th>\n",
              "      <th>payment_type_0</th>\n",
              "      <th>payment_type_1</th>\n",
              "      <th>payment_type_2</th>\n",
              "      <th>payment_type_3</th>\n",
              "      <th>payment_type_4</th>\n",
              "      <th>payment_type_5</th>\n",
              "      <th>past_billings_cnt</th>\n",
              "      <th>score_1</th>\n",
              "      <th>score_2</th>\n",
              "      <th>age</th>\n",
              "      <th>bad_flag</th>\n",
              "    </tr>\n",
              "  </thead>\n",
              "  <tbody>\n",
              "    <tr>\n",
              "      <th>count</th>\n",
              "      <td>4157.000000</td>\n",
              "      <td>675.000000</td>\n",
              "      <td>675.000000</td>\n",
              "      <td>675.000000</td>\n",
              "      <td>4142.000000</td>\n",
              "      <td>4157.000000</td>\n",
              "      <td>4157.000000</td>\n",
              "      <td>4157.000000</td>\n",
              "      <td>4157.000000</td>\n",
              "      <td>4157.000000</td>\n",
              "      <td>4157.000000</td>\n",
              "      <td>4157.0</td>\n",
              "      <td>3909.000000</td>\n",
              "      <td>3507.000000</td>\n",
              "      <td>239.000000</td>\n",
              "      <td>4157.000000</td>\n",
              "      <td>4157.000000</td>\n",
              "    </tr>\n",
              "    <tr>\n",
              "      <th>mean</th>\n",
              "      <td>525386.651431</td>\n",
              "      <td>1.444444</td>\n",
              "      <td>0.733333</td>\n",
              "      <td>0.280000</td>\n",
              "      <td>1.184693</td>\n",
              "      <td>12.338225</td>\n",
              "      <td>0.018523</td>\n",
              "      <td>0.596103</td>\n",
              "      <td>3.755834</td>\n",
              "      <td>0.758239</td>\n",
              "      <td>0.019485</td>\n",
              "      <td>0.0</td>\n",
              "      <td>4.979023</td>\n",
              "      <td>578.911345</td>\n",
              "      <td>552.546610</td>\n",
              "      <td>34.561222</td>\n",
              "      <td>0.100313</td>\n",
              "    </tr>\n",
              "    <tr>\n",
              "      <th>std</th>\n",
              "      <td>202001.338206</td>\n",
              "      <td>0.900599</td>\n",
              "      <td>0.764572</td>\n",
              "      <td>0.502339</td>\n",
              "      <td>1.723715</td>\n",
              "      <td>9.902927</td>\n",
              "      <td>0.330359</td>\n",
              "      <td>2.564887</td>\n",
              "      <td>3.810703</td>\n",
              "      <td>2.212487</td>\n",
              "      <td>0.245960</td>\n",
              "      <td>0.0</td>\n",
              "      <td>3.491556</td>\n",
              "      <td>48.989869</td>\n",
              "      <td>21.492840</td>\n",
              "      <td>10.834143</td>\n",
              "      <td>0.300453</td>\n",
              "    </tr>\n",
              "    <tr>\n",
              "      <th>min</th>\n",
              "      <td>58567.000000</td>\n",
              "      <td>0.000000</td>\n",
              "      <td>0.000000</td>\n",
              "      <td>0.000000</td>\n",
              "      <td>0.000000</td>\n",
              "      <td>1.000000</td>\n",
              "      <td>0.000000</td>\n",
              "      <td>0.000000</td>\n",
              "      <td>0.000000</td>\n",
              "      <td>0.000000</td>\n",
              "      <td>0.000000</td>\n",
              "      <td>0.0</td>\n",
              "      <td>1.000000</td>\n",
              "      <td>384.220628</td>\n",
              "      <td>485.874267</td>\n",
              "      <td>18.000000</td>\n",
              "      <td>0.000000</td>\n",
              "    </tr>\n",
              "    <tr>\n",
              "      <th>25%</th>\n",
              "      <td>363964.000000</td>\n",
              "      <td>1.000000</td>\n",
              "      <td>0.000000</td>\n",
              "      <td>0.000000</td>\n",
              "      <td>0.000000</td>\n",
              "      <td>6.000000</td>\n",
              "      <td>0.000000</td>\n",
              "      <td>0.000000</td>\n",
              "      <td>1.000000</td>\n",
              "      <td>0.000000</td>\n",
              "      <td>0.000000</td>\n",
              "      <td>0.0</td>\n",
              "      <td>2.000000</td>\n",
              "      <td>547.429791</td>\n",
              "      <td>535.545724</td>\n",
              "      <td>26.000000</td>\n",
              "      <td>0.000000</td>\n",
              "    </tr>\n",
              "    <tr>\n",
              "      <th>50%</th>\n",
              "      <td>543603.000000</td>\n",
              "      <td>1.000000</td>\n",
              "      <td>1.000000</td>\n",
              "      <td>0.000000</td>\n",
              "      <td>1.000000</td>\n",
              "      <td>6.000000</td>\n",
              "      <td>0.000000</td>\n",
              "      <td>0.000000</td>\n",
              "      <td>3.000000</td>\n",
              "      <td>0.000000</td>\n",
              "      <td>0.000000</td>\n",
              "      <td>0.0</td>\n",
              "      <td>4.000000</td>\n",
              "      <td>588.531315</td>\n",
              "      <td>556.757944</td>\n",
              "      <td>32.000000</td>\n",
              "      <td>0.000000</td>\n",
              "    </tr>\n",
              "    <tr>\n",
              "      <th>75%</th>\n",
              "      <td>687271.000000</td>\n",
              "      <td>2.000000</td>\n",
              "      <td>1.000000</td>\n",
              "      <td>1.000000</td>\n",
              "      <td>2.000000</td>\n",
              "      <td>14.000000</td>\n",
              "      <td>0.000000</td>\n",
              "      <td>0.000000</td>\n",
              "      <td>6.000000</td>\n",
              "      <td>0.000000</td>\n",
              "      <td>0.000000</td>\n",
              "      <td>0.0</td>\n",
              "      <td>6.000000</td>\n",
              "      <td>612.323090</td>\n",
              "      <td>567.608057</td>\n",
              "      <td>41.000000</td>\n",
              "      <td>0.000000</td>\n",
              "    </tr>\n",
              "    <tr>\n",
              "      <th>max</th>\n",
              "      <td>884377.000000</td>\n",
              "      <td>7.000000</td>\n",
              "      <td>5.000000</td>\n",
              "      <td>3.000000</td>\n",
              "      <td>31.000000</td>\n",
              "      <td>80.000000</td>\n",
              "      <td>15.000000</td>\n",
              "      <td>81.000000</td>\n",
              "      <td>33.000000</td>\n",
              "      <td>35.000000</td>\n",
              "      <td>7.000000</td>\n",
              "      <td>0.0</td>\n",
              "      <td>21.000000</td>\n",
              "      <td>691.528420</td>\n",
              "      <td>603.311653</td>\n",
              "      <td>74.000000</td>\n",
              "      <td>1.000000</td>\n",
              "    </tr>\n",
              "  </tbody>\n",
              "</table>\n",
              "</div>\n",
              "    <div class=\"colab-df-buttons\">\n",
              "\n",
              "  <div class=\"colab-df-container\">\n",
              "    <button class=\"colab-df-convert\" onclick=\"convertToInteractive('df-73509730-980d-4bc6-b00b-19e6c46fb032')\"\n",
              "            title=\"Convert this dataframe to an interactive table.\"\n",
              "            style=\"display:none;\">\n",
              "\n",
              "  <svg xmlns=\"http://www.w3.org/2000/svg\" height=\"24px\" viewBox=\"0 -960 960 960\">\n",
              "    <path d=\"M120-120v-720h720v720H120Zm60-500h600v-160H180v160Zm220 220h160v-160H400v160Zm0 220h160v-160H400v160ZM180-400h160v-160H180v160Zm440 0h160v-160H620v160ZM180-180h160v-160H180v160Zm440 0h160v-160H620v160Z\"/>\n",
              "  </svg>\n",
              "    </button>\n",
              "\n",
              "  <style>\n",
              "    .colab-df-container {\n",
              "      display:flex;\n",
              "      gap: 12px;\n",
              "    }\n",
              "\n",
              "    .colab-df-convert {\n",
              "      background-color: #E8F0FE;\n",
              "      border: none;\n",
              "      border-radius: 50%;\n",
              "      cursor: pointer;\n",
              "      display: none;\n",
              "      fill: #1967D2;\n",
              "      height: 32px;\n",
              "      padding: 0 0 0 0;\n",
              "      width: 32px;\n",
              "    }\n",
              "\n",
              "    .colab-df-convert:hover {\n",
              "      background-color: #E2EBFA;\n",
              "      box-shadow: 0px 1px 2px rgba(60, 64, 67, 0.3), 0px 1px 3px 1px rgba(60, 64, 67, 0.15);\n",
              "      fill: #174EA6;\n",
              "    }\n",
              "\n",
              "    .colab-df-buttons div {\n",
              "      margin-bottom: 4px;\n",
              "    }\n",
              "\n",
              "    [theme=dark] .colab-df-convert {\n",
              "      background-color: #3B4455;\n",
              "      fill: #D2E3FC;\n",
              "    }\n",
              "\n",
              "    [theme=dark] .colab-df-convert:hover {\n",
              "      background-color: #434B5C;\n",
              "      box-shadow: 0px 1px 3px 1px rgba(0, 0, 0, 0.15);\n",
              "      filter: drop-shadow(0px 1px 2px rgba(0, 0, 0, 0.3));\n",
              "      fill: #FFFFFF;\n",
              "    }\n",
              "  </style>\n",
              "\n",
              "    <script>\n",
              "      const buttonEl =\n",
              "        document.querySelector('#df-73509730-980d-4bc6-b00b-19e6c46fb032 button.colab-df-convert');\n",
              "      buttonEl.style.display =\n",
              "        google.colab.kernel.accessAllowed ? 'block' : 'none';\n",
              "\n",
              "      async function convertToInteractive(key) {\n",
              "        const element = document.querySelector('#df-73509730-980d-4bc6-b00b-19e6c46fb032');\n",
              "        const dataTable =\n",
              "          await google.colab.kernel.invokeFunction('convertToInteractive',\n",
              "                                                    [key], {});\n",
              "        if (!dataTable) return;\n",
              "\n",
              "        const docLinkHtml = 'Like what you see? Visit the ' +\n",
              "          '<a target=\"_blank\" href=https://colab.research.google.com/notebooks/data_table.ipynb>data table notebook</a>'\n",
              "          + ' to learn more about interactive tables.';\n",
              "        element.innerHTML = '';\n",
              "        dataTable['output_type'] = 'display_data';\n",
              "        await google.colab.output.renderOutput(dataTable, element);\n",
              "        const docLink = document.createElement('div');\n",
              "        docLink.innerHTML = docLinkHtml;\n",
              "        element.appendChild(docLink);\n",
              "      }\n",
              "    </script>\n",
              "  </div>\n",
              "\n",
              "\n",
              "<div id=\"df-c6c4e634-40f3-4deb-afd8-b3d866783794\">\n",
              "  <button class=\"colab-df-quickchart\" onclick=\"quickchart('df-c6c4e634-40f3-4deb-afd8-b3d866783794')\"\n",
              "            title=\"Suggest charts\"\n",
              "            style=\"display:none;\">\n",
              "\n",
              "<svg xmlns=\"http://www.w3.org/2000/svg\" height=\"24px\"viewBox=\"0 0 24 24\"\n",
              "     width=\"24px\">\n",
              "    <g>\n",
              "        <path d=\"M19 3H5c-1.1 0-2 .9-2 2v14c0 1.1.9 2 2 2h14c1.1 0 2-.9 2-2V5c0-1.1-.9-2-2-2zM9 17H7v-7h2v7zm4 0h-2V7h2v10zm4 0h-2v-4h2v4z\"/>\n",
              "    </g>\n",
              "</svg>\n",
              "  </button>\n",
              "\n",
              "<style>\n",
              "  .colab-df-quickchart {\n",
              "      --bg-color: #E8F0FE;\n",
              "      --fill-color: #1967D2;\n",
              "      --hover-bg-color: #E2EBFA;\n",
              "      --hover-fill-color: #174EA6;\n",
              "      --disabled-fill-color: #AAA;\n",
              "      --disabled-bg-color: #DDD;\n",
              "  }\n",
              "\n",
              "  [theme=dark] .colab-df-quickchart {\n",
              "      --bg-color: #3B4455;\n",
              "      --fill-color: #D2E3FC;\n",
              "      --hover-bg-color: #434B5C;\n",
              "      --hover-fill-color: #FFFFFF;\n",
              "      --disabled-bg-color: #3B4455;\n",
              "      --disabled-fill-color: #666;\n",
              "  }\n",
              "\n",
              "  .colab-df-quickchart {\n",
              "    background-color: var(--bg-color);\n",
              "    border: none;\n",
              "    border-radius: 50%;\n",
              "    cursor: pointer;\n",
              "    display: none;\n",
              "    fill: var(--fill-color);\n",
              "    height: 32px;\n",
              "    padding: 0;\n",
              "    width: 32px;\n",
              "  }\n",
              "\n",
              "  .colab-df-quickchart:hover {\n",
              "    background-color: var(--hover-bg-color);\n",
              "    box-shadow: 0 1px 2px rgba(60, 64, 67, 0.3), 0 1px 3px 1px rgba(60, 64, 67, 0.15);\n",
              "    fill: var(--button-hover-fill-color);\n",
              "  }\n",
              "\n",
              "  .colab-df-quickchart-complete:disabled,\n",
              "  .colab-df-quickchart-complete:disabled:hover {\n",
              "    background-color: var(--disabled-bg-color);\n",
              "    fill: var(--disabled-fill-color);\n",
              "    box-shadow: none;\n",
              "  }\n",
              "\n",
              "  .colab-df-spinner {\n",
              "    border: 2px solid var(--fill-color);\n",
              "    border-color: transparent;\n",
              "    border-bottom-color: var(--fill-color);\n",
              "    animation:\n",
              "      spin 1s steps(1) infinite;\n",
              "  }\n",
              "\n",
              "  @keyframes spin {\n",
              "    0% {\n",
              "      border-color: transparent;\n",
              "      border-bottom-color: var(--fill-color);\n",
              "      border-left-color: var(--fill-color);\n",
              "    }\n",
              "    20% {\n",
              "      border-color: transparent;\n",
              "      border-left-color: var(--fill-color);\n",
              "      border-top-color: var(--fill-color);\n",
              "    }\n",
              "    30% {\n",
              "      border-color: transparent;\n",
              "      border-left-color: var(--fill-color);\n",
              "      border-top-color: var(--fill-color);\n",
              "      border-right-color: var(--fill-color);\n",
              "    }\n",
              "    40% {\n",
              "      border-color: transparent;\n",
              "      border-right-color: var(--fill-color);\n",
              "      border-top-color: var(--fill-color);\n",
              "    }\n",
              "    60% {\n",
              "      border-color: transparent;\n",
              "      border-right-color: var(--fill-color);\n",
              "    }\n",
              "    80% {\n",
              "      border-color: transparent;\n",
              "      border-right-color: var(--fill-color);\n",
              "      border-bottom-color: var(--fill-color);\n",
              "    }\n",
              "    90% {\n",
              "      border-color: transparent;\n",
              "      border-bottom-color: var(--fill-color);\n",
              "    }\n",
              "  }\n",
              "</style>\n",
              "\n",
              "  <script>\n",
              "    async function quickchart(key) {\n",
              "      const quickchartButtonEl =\n",
              "        document.querySelector('#' + key + ' button');\n",
              "      quickchartButtonEl.disabled = true;  // To prevent multiple clicks.\n",
              "      quickchartButtonEl.classList.add('colab-df-spinner');\n",
              "      try {\n",
              "        const charts = await google.colab.kernel.invokeFunction(\n",
              "            'suggestCharts', [key], {});\n",
              "      } catch (error) {\n",
              "        console.error('Error during call to suggestCharts:', error);\n",
              "      }\n",
              "      quickchartButtonEl.classList.remove('colab-df-spinner');\n",
              "      quickchartButtonEl.classList.add('colab-df-quickchart-complete');\n",
              "    }\n",
              "    (() => {\n",
              "      let quickchartButtonEl =\n",
              "        document.querySelector('#df-c6c4e634-40f3-4deb-afd8-b3d866783794 button');\n",
              "      quickchartButtonEl.style.display =\n",
              "        google.colab.kernel.accessAllowed ? 'block' : 'none';\n",
              "    })();\n",
              "  </script>\n",
              "</div>\n",
              "    </div>\n",
              "  </div>\n"
            ],
            "application/vnd.google.colaboratory.intrinsic+json": {
              "type": "dataframe",
              "summary": "{\n  \"name\": \"data\",\n  \"rows\": 8,\n  \"fields\": [\n    {\n      \"column\": \"loanKey\",\n      \"properties\": {\n        \"dtype\": \"number\",\n        \"std\": 308604.87870089244,\n        \"min\": 4157.0,\n        \"max\": 884377.0,\n        \"num_unique_values\": 8,\n        \"samples\": [\n          525386.6514313207,\n          543603.0,\n          4157.0\n        ],\n        \"semantic_type\": \"\",\n        \"description\": \"\"\n      }\n    },\n    {\n      \"column\": \"dpd_5_cnt\",\n      \"properties\": {\n        \"dtype\": \"number\",\n        \"std\": 237.9842537358739,\n        \"min\": 0.0,\n        \"max\": 675.0,\n        \"num_unique_values\": 7,\n        \"samples\": [\n          675.0,\n          1.4444444444444444,\n          2.0\n        ],\n        \"semantic_type\": \"\",\n        \"description\": \"\"\n      }\n    },\n    {\n      \"column\": \"dpd_15_cnt\",\n      \"properties\": {\n        \"dtype\": \"number\",\n        \"std\": 238.22466859528123,\n        \"min\": 0.0,\n        \"max\": 675.0,\n        \"num_unique_values\": 6,\n        \"samples\": [\n          675.0,\n          0.7333333333333333,\n          5.0\n        ],\n        \"semantic_type\": \"\",\n        \"description\": \"\"\n      }\n    },\n    {\n      \"column\": \"dpd_30_cnt\",\n      \"properties\": {\n        \"dtype\": \"number\",\n        \"std\": 238.4091103351827,\n        \"min\": 0.0,\n        \"max\": 675.0,\n        \"num_unique_values\": 6,\n        \"samples\": [\n          675.0,\n          0.28,\n          3.0\n        ],\n        \"semantic_type\": \"\",\n        \"description\": \"\"\n      }\n    },\n    {\n      \"column\": \"close_loans_cnt\",\n      \"properties\": {\n        \"dtype\": \"number\",\n        \"std\": 1462.5918744842713,\n        \"min\": 0.0,\n        \"max\": 4142.0,\n        \"num_unique_values\": 7,\n        \"samples\": [\n          4142.0,\n          1.1846933848382424,\n          2.0\n        ],\n        \"semantic_type\": \"\",\n        \"description\": \"\"\n      }\n    },\n    {\n      \"column\": \"TraderKey\",\n      \"properties\": {\n        \"dtype\": \"number\",\n        \"std\": 1463.415056758906,\n        \"min\": 1.0,\n        \"max\": 4157.0,\n        \"num_unique_values\": 7,\n        \"samples\": [\n          4157.0,\n          12.338224681260524,\n          14.0\n        ],\n        \"semantic_type\": \"\",\n        \"description\": \"\"\n      }\n    },\n    {\n      \"column\": \"payment_type_0\",\n      \"properties\": {\n        \"dtype\": \"number\",\n        \"std\": 1468.9555186467676,\n        \"min\": 0.0,\n        \"max\": 4157.0,\n        \"num_unique_values\": 5,\n        \"samples\": [\n          0.01852297329805148,\n          15.0,\n          0.3303590265069479\n        ],\n        \"semantic_type\": \"\",\n        \"description\": \"\"\n      }\n    },\n    {\n      \"column\": \"payment_type_1\",\n      \"properties\": {\n        \"dtype\": \"number\",\n        \"std\": 1465.741456240718,\n        \"min\": 0.0,\n        \"max\": 4157.0,\n        \"num_unique_values\": 5,\n        \"samples\": [\n          0.5961029588645658,\n          81.0,\n          2.5648873239549865\n        ],\n        \"semantic_type\": \"\",\n        \"description\": \"\"\n      }\n    },\n    {\n      \"column\": \"payment_type_2\",\n      \"properties\": {\n        \"dtype\": \"number\",\n        \"std\": 1467.20631561247,\n        \"min\": 0.0,\n        \"max\": 4157.0,\n        \"num_unique_values\": 8,\n        \"samples\": [\n          3.755833533798412,\n          3.0,\n          4157.0\n        ],\n        \"semantic_type\": \"\",\n        \"description\": \"\"\n      }\n    },\n    {\n      \"column\": \"payment_type_3\",\n      \"properties\": {\n        \"dtype\": \"number\",\n        \"std\": 1467.8534884996834,\n        \"min\": 0.0,\n        \"max\": 4157.0,\n        \"num_unique_values\": 5,\n        \"samples\": [\n          0.7582391147462112,\n          35.0,\n          2.212487000463187\n        ],\n        \"semantic_type\": \"\",\n        \"description\": \"\"\n      }\n    },\n    {\n      \"column\": \"payment_type_4\",\n      \"properties\": {\n        \"dtype\": \"number\",\n        \"std\": 1469.356502696988,\n        \"min\": 0.0,\n        \"max\": 4157.0,\n        \"num_unique_values\": 5,\n        \"samples\": [\n          0.019485205677171036,\n          7.0,\n          0.24595950390294724\n        ],\n        \"semantic_type\": \"\",\n        \"description\": \"\"\n      }\n    },\n    {\n      \"column\": \"payment_type_5\",\n      \"properties\": {\n        \"dtype\": \"number\",\n        \"std\": 1469.7214446962391,\n        \"min\": 0.0,\n        \"max\": 4157.0,\n        \"num_unique_values\": 2,\n        \"samples\": [\n          0.0,\n          4157.0\n        ],\n        \"semantic_type\": \"\",\n        \"description\": \"\"\n      }\n    },\n    {\n      \"column\": \"past_billings_cnt\",\n      \"properties\": {\n        \"dtype\": \"number\",\n        \"std\": 1379.9094698536176,\n        \"min\": 1.0,\n        \"max\": 3909.0,\n        \"num_unique_values\": 8,\n        \"samples\": [\n          4.979022767971348,\n          4.0\n        ],\n        \"semantic_type\": \"\",\n        \"description\": \"\"\n      }\n    },\n    {\n      \"column\": \"score_1\",\n      \"properties\": {\n        \"dtype\": \"number\",\n        \"std\": 1084.3079657108117,\n        \"min\": 48.98986921775436,\n        \"max\": 3507.0,\n        \"num_unique_values\": 8,\n        \"samples\": [\n          578.9113449024528,\n          588.5313149452869\n        ],\n        \"semantic_type\": \"\",\n        \"description\": \"\"\n      }\n    },\n    {\n      \"column\": \"score_2\",\n      \"properties\": {\n        \"dtype\": \"number\",\n        \"std\": 205.57042746730556,\n        \"min\": 21.492839581216632,\n        \"max\": 603.3116527707739,\n        \"num_unique_values\": 8,\n        \"samples\": [\n          552.546610077289,\n          556.7579444322735\n        ],\n        \"semantic_type\": \"\",\n        \"description\": \"\"\n      }\n    },\n    {\n      \"column\": \"age\",\n      \"properties\": {\n        \"dtype\": \"number\",\n        \"std\": 1457.9046364445096,\n        \"min\": 10.83414278574191,\n        \"max\": 4157.0,\n        \"num_unique_values\": 8,\n        \"samples\": [\n          34.56122203512148,\n          32.0\n        ],\n        \"semantic_type\": \"\",\n        \"description\": \"\"\n      }\n    },\n    {\n      \"column\": \"bad_flag\",\n      \"properties\": {\n        \"dtype\": \"number\",\n        \"std\": 1469.6507352158876,\n        \"min\": 0.0,\n        \"max\": 4157.0,\n        \"num_unique_values\": 5,\n        \"samples\": [\n          0.10031272552321385,\n          1.0\n        ],\n        \"semantic_type\": \"\",\n        \"description\": \"\"\n      }\n    }\n  ]\n}"
            }
          },
          "metadata": {},
          "execution_count": 6
        }
      ],
      "source": [
        "data.describe()"
      ]
    },
    {
      "cell_type": "code",
      "execution_count": 7,
      "metadata": {
        "colab": {
          "base_uri": "https://localhost:8080/"
        },
        "id": "x_Xkyaml7FOy",
        "outputId": "3b3b92ab-4a5a-41aa-fbde-97f943f03815"
      },
      "outputs": [
        {
          "output_type": "stream",
          "name": "stdout",
          "text": [
            "loanKey                   0\n",
            "rep_loan_date             0\n",
            "first_loan                0\n",
            "dpd_5_cnt              3482\n",
            "dpd_15_cnt             3482\n",
            "dpd_30_cnt             3482\n",
            "first_overdue_date     3482\n",
            "close_loans_cnt          15\n",
            "federal_district_nm      11\n",
            "TraderKey                 0\n",
            "payment_type_0            0\n",
            "payment_type_1            0\n",
            "payment_type_2            0\n",
            "payment_type_3            0\n",
            "payment_type_4            0\n",
            "payment_type_5            0\n",
            "past_billings_cnt       248\n",
            "score_1                 650\n",
            "score_2                3918\n",
            "age                       0\n",
            "gender                    0\n",
            "bad_flag                  0\n",
            "dtype: int64\n"
          ]
        }
      ],
      "source": [
        "# посмотрим на пропуски\n",
        "print(data.isnull().sum())"
      ]
    },
    {
      "cell_type": "code",
      "execution_count": 8,
      "metadata": {
        "colab": {
          "base_uri": "https://localhost:8080/"
        },
        "id": "7JCnTtVi4Pig",
        "outputId": "16e9c3ab-5f5d-4e95-af81-c4ee6f5b85c4"
      },
      "outputs": [
        {
          "output_type": "stream",
          "name": "stdout",
          "text": [
            "loanKey                   0\n",
            "rep_loan_date             0\n",
            "first_loan                0\n",
            "dpd_5_cnt              3482\n",
            "dpd_15_cnt             3482\n",
            "dpd_30_cnt             3482\n",
            "first_overdue_date     3482\n",
            "close_loans_cnt           0\n",
            "federal_district_nm      11\n",
            "TraderKey                 0\n",
            "payment_type_0            0\n",
            "payment_type_1            0\n",
            "payment_type_2            0\n",
            "payment_type_3            0\n",
            "payment_type_4            0\n",
            "payment_type_5            0\n",
            "past_billings_cnt         0\n",
            "score_1                 650\n",
            "score_2                3918\n",
            "age                       0\n",
            "gender                    0\n",
            "bad_flag                  0\n",
            "dtype: int64\n"
          ]
        }
      ],
      "source": [
        "data.close_loans_cnt.fillna(data.close_loans_cnt.mean(), inplace=True)\n",
        "data.past_billings_cnt.fillna(0, inplace=True)\n",
        "# Count the number of NaN values in each column\n",
        "print(data.isnull().sum())"
      ]
    },
    {
      "cell_type": "code",
      "execution_count": 9,
      "metadata": {
        "id": "IjSXdJQq4Pig"
      },
      "outputs": [],
      "source": [
        "data[\"rep_loan_date\"] = pd.to_datetime(data[\"rep_loan_date\"])\n",
        "data[\"first_loan\"] = pd.to_datetime(data[\"first_loan\"])\n",
        "data[\"first_overdue_date\"] = pd.to_datetime(data[\"first_overdue_date\"])\n",
        "data[\"TraderKey\"] = pd.to_numeric(data[\"TraderKey\"], downcast='signed')\n",
        "data[\"past_billings_cnt\"] = data[\"past_billings_cnt\"].astype(int)\n",
        "data[\"age\"] = data[\"age\"].astype(int)\n",
        "data['federal_district_nm'] = data['federal_district_nm'].astype('category')"
      ]
    },
    {
      "cell_type": "code",
      "execution_count": 10,
      "metadata": {
        "id": "VHDiFzOX4Pih"
      },
      "outputs": [],
      "source": [
        "data['first_loan_year']= data['first_loan'].apply(lambda x: x.year)\n",
        "data['first_loan_month'] = data['first_loan'].apply(lambda x: x.month)\n",
        "data['first_loan_day'] = data['first_loan'].apply(lambda x: x.day)\n",
        "\n",
        "data['rep_loan_date_year']= data['rep_loan_date'].apply(lambda x: x.year)\n",
        "data['rep_loan_date_month'] = data['rep_loan_date'].apply(lambda x: x.month)\n",
        "data['rep_loan_date_day'] = data['rep_loan_date'].apply(lambda x: x.day)\n",
        "\n",
        "data['first_overdue_year']= data['first_overdue_date'].apply(lambda x: x.year)\n",
        "data['first_overdue_month'] = data['first_overdue_date'].apply(lambda x: x.month)\n",
        "data['first_overdue_day'] = data['first_overdue_date'].apply(lambda x: x.day)"
      ]
    },
    {
      "cell_type": "code",
      "execution_count": 11,
      "metadata": {
        "colab": {
          "base_uri": "https://localhost:8080/"
        },
        "id": "bSrzzou34Pih",
        "outputId": "23afa95c-2298-4d58-9f05-6b2b6b70ca81"
      },
      "outputs": [
        {
          "output_type": "stream",
          "name": "stdout",
          "text": [
            "The following columns were deleted: ['loanKey']\n"
          ]
        }
      ],
      "source": [
        "# Cleaning\n",
        "list_del =['loanKey']\n",
        "for i in data.columns:\n",
        "    if data[i].isnull().sum() == data.shape[0]: # or len(data[i].unique()) < 3\n",
        "        list_del.append(i)\n",
        "data.drop(list_del, axis=1, inplace=True)\n",
        "print('The following columns were deleted:', list_del)"
      ]
    },
    {
      "cell_type": "code",
      "execution_count": 12,
      "metadata": {
        "id": "9EWUrD_b4Pii"
      },
      "outputs": [],
      "source": [
        "from datetime import datetime\n",
        "data['Difference'] = (data['first_overdue_date'] - data['first_loan']).dt.days\n",
        "data['Recurrence'] = (data['rep_loan_date'] - data['first_loan']).dt.days"
      ]
    },
    {
      "cell_type": "code",
      "execution_count": 13,
      "metadata": {
        "colab": {
          "base_uri": "https://localhost:8080/"
        },
        "id": "uFuNwg2k4Pii",
        "outputId": "5e1d3db3-0f63-4e06-8dc6-ff17ee04bc39"
      },
      "outputs": [
        {
          "output_type": "stream",
          "name": "stdout",
          "text": [
            "rep_loan_date             0\n",
            "first_loan                0\n",
            "dpd_5_cnt              3482\n",
            "dpd_15_cnt             3482\n",
            "dpd_30_cnt             3482\n",
            "first_overdue_date     3482\n",
            "close_loans_cnt           0\n",
            "federal_district_nm      11\n",
            "TraderKey                 0\n",
            "payment_type_0            0\n",
            "payment_type_1            0\n",
            "payment_type_2            0\n",
            "payment_type_3            0\n",
            "payment_type_4            0\n",
            "payment_type_5            0\n",
            "past_billings_cnt         0\n",
            "score_1                 650\n",
            "score_2                3918\n",
            "age                       0\n",
            "gender                    0\n",
            "bad_flag                  0\n",
            "first_loan_year           0\n",
            "first_loan_month          0\n",
            "first_loan_day            0\n",
            "rep_loan_date_year        0\n",
            "rep_loan_date_month       0\n",
            "rep_loan_date_day         0\n",
            "first_overdue_year     3482\n",
            "first_overdue_month    3482\n",
            "first_overdue_day      3482\n",
            "Difference             3482\n",
            "Recurrence                0\n",
            "dtype: int64\n"
          ]
        }
      ],
      "source": [
        "# See the missing values\n",
        "print(data.isnull().sum())"
      ]
    },
    {
      "cell_type": "code",
      "execution_count": 14,
      "metadata": {
        "colab": {
          "base_uri": "https://localhost:8080/"
        },
        "id": "jhI2c0L94Pij",
        "outputId": "28634682-ff00-49c7-a0b0-9237d6c0dd71"
      },
      "outputs": [
        {
          "output_type": "execute_result",
          "data": {
            "text/plain": [
              "(4157, 32)"
            ]
          },
          "metadata": {},
          "execution_count": 14
        }
      ],
      "source": [
        "data = data.dropna(how='all')    #to drop if all values in the row are nan\n",
        "data.shape"
      ]
    },
    {
      "cell_type": "code",
      "execution_count": 15,
      "metadata": {
        "id": "rGq61Z-x4Pij"
      },
      "outputs": [],
      "source": [
        "def create_dummy(column):\n",
        "    global data\n",
        "    dummy_ranks = pd.get_dummies(data[column], prefix=column, dtype=bool)\n",
        "    # Create dummy variables for the regression\n",
        "    cols_to_keep = list(data.columns.values)\n",
        "    data = data[cols_to_keep].join(dummy_ranks.loc[:, dummy_ranks.columns[0]:])\n",
        "    data.drop(column, axis=1, inplace=True)"
      ]
    },
    {
      "cell_type": "code",
      "execution_count": 16,
      "metadata": {
        "id": "bCNig5Yf4Pij"
      },
      "outputs": [],
      "source": [
        "create_dummy(\"federal_district_nm\")\n",
        "create_dummy(\"dpd_5_cnt\")\n",
        "create_dummy(\"dpd_15_cnt\")\n",
        "create_dummy(\"dpd_30_cnt\")"
      ]
    },
    {
      "cell_type": "code",
      "execution_count": 17,
      "metadata": {
        "id": "-hroTk1P4Pij"
      },
      "outputs": [],
      "source": [
        "data[\"Difference\"].fillna(0, inplace=True)\n",
        "data[\"first_overdue_year\"].fillna(0, inplace=True)\n",
        "data[\"first_overdue_month\"].fillna(0, inplace=True)\n",
        "data[\"first_overdue_day\"].fillna(0, inplace=True)"
      ]
    },
    {
      "cell_type": "markdown",
      "metadata": {
        "id": "BabWGM224Pik"
      },
      "source": [
        "# Balance the dataset"
      ]
    },
    {
      "cell_type": "code",
      "execution_count": 18,
      "metadata": {
        "colab": {
          "base_uri": "https://localhost:8080/",
          "height": 178
        },
        "id": "p5MfeS-R4Pil",
        "outputId": "e96ccd47-060a-4634-c8b8-9c1369dea54a"
      },
      "outputs": [
        {
          "output_type": "execute_result",
          "data": {
            "text/plain": [
              "bad_flag\n",
              "0    3740\n",
              "1     417\n",
              "Name: count, dtype: int64"
            ],
            "text/html": [
              "<div>\n",
              "<style scoped>\n",
              "    .dataframe tbody tr th:only-of-type {\n",
              "        vertical-align: middle;\n",
              "    }\n",
              "\n",
              "    .dataframe tbody tr th {\n",
              "        vertical-align: top;\n",
              "    }\n",
              "\n",
              "    .dataframe thead th {\n",
              "        text-align: right;\n",
              "    }\n",
              "</style>\n",
              "<table border=\"1\" class=\"dataframe\">\n",
              "  <thead>\n",
              "    <tr style=\"text-align: right;\">\n",
              "      <th></th>\n",
              "      <th>count</th>\n",
              "    </tr>\n",
              "    <tr>\n",
              "      <th>bad_flag</th>\n",
              "      <th></th>\n",
              "    </tr>\n",
              "  </thead>\n",
              "  <tbody>\n",
              "    <tr>\n",
              "      <th>0</th>\n",
              "      <td>3740</td>\n",
              "    </tr>\n",
              "    <tr>\n",
              "      <th>1</th>\n",
              "      <td>417</td>\n",
              "    </tr>\n",
              "  </tbody>\n",
              "</table>\n",
              "</div><br><label><b>dtype:</b> int64</label>"
            ]
          },
          "metadata": {},
          "execution_count": 18
        }
      ],
      "source": [
        "from sklearn.utils import resample\n",
        "data['bad_flag'].value_counts()"
      ]
    },
    {
      "cell_type": "code",
      "execution_count": 19,
      "metadata": {
        "id": "8nK_APCQ4Pim"
      },
      "outputs": [],
      "source": [
        "# Separate majority and minority classes\n",
        "df_majority = data[data.bad_flag==0]\n",
        "df_minority = data[data.bad_flag==1]\n",
        "\n",
        "# Upsample minority class\n",
        "df_minority_upsampled = resample(df_minority,\n",
        "                                 replace=True,     # sample with replacement\n",
        "                                 n_samples=3740,    # to match majority class\n",
        "                                 random_state=123) # reproducible results"
      ]
    },
    {
      "cell_type": "code",
      "execution_count": 20,
      "metadata": {
        "colab": {
          "base_uri": "https://localhost:8080/",
          "height": 178
        },
        "id": "4aY7BKT_4Pim",
        "outputId": "29b6aa80-8c2b-47a2-f4ee-d2d9c7dd22f4"
      },
      "outputs": [
        {
          "output_type": "execute_result",
          "data": {
            "text/plain": [
              "bad_flag\n",
              "0    3740\n",
              "1    3740\n",
              "Name: count, dtype: int64"
            ],
            "text/html": [
              "<div>\n",
              "<style scoped>\n",
              "    .dataframe tbody tr th:only-of-type {\n",
              "        vertical-align: middle;\n",
              "    }\n",
              "\n",
              "    .dataframe tbody tr th {\n",
              "        vertical-align: top;\n",
              "    }\n",
              "\n",
              "    .dataframe thead th {\n",
              "        text-align: right;\n",
              "    }\n",
              "</style>\n",
              "<table border=\"1\" class=\"dataframe\">\n",
              "  <thead>\n",
              "    <tr style=\"text-align: right;\">\n",
              "      <th></th>\n",
              "      <th>count</th>\n",
              "    </tr>\n",
              "    <tr>\n",
              "      <th>bad_flag</th>\n",
              "      <th></th>\n",
              "    </tr>\n",
              "  </thead>\n",
              "  <tbody>\n",
              "    <tr>\n",
              "      <th>0</th>\n",
              "      <td>3740</td>\n",
              "    </tr>\n",
              "    <tr>\n",
              "      <th>1</th>\n",
              "      <td>3740</td>\n",
              "    </tr>\n",
              "  </tbody>\n",
              "</table>\n",
              "</div><br><label><b>dtype:</b> int64</label>"
            ]
          },
          "metadata": {},
          "execution_count": 20
        }
      ],
      "source": [
        "# Combine majority class with upsampled minority class\n",
        "df_upsampled = pd.concat([df_majority, df_minority_upsampled])\n",
        "\n",
        "# Display new class counts\n",
        "df_upsampled.bad_flag.value_counts()"
      ]
    },
    {
      "cell_type": "code",
      "execution_count": 21,
      "metadata": {
        "id": "5Z8tUKDt4Pim"
      },
      "outputs": [],
      "source": [
        "from sklearn.utils import shuffle\n",
        "df_upsampled = shuffle(df_upsampled, random_state=0)"
      ]
    },
    {
      "cell_type": "markdown",
      "metadata": {
        "id": "0hl3s41w4Pin"
      },
      "source": [
        "# Splitting the data"
      ]
    },
    {
      "cell_type": "code",
      "execution_count": 22,
      "metadata": {
        "id": "d-Wg-UY94Pin"
      },
      "outputs": [],
      "source": [
        "columns = df_upsampled.columns.tolist()\n",
        "columns = [c for c in columns if c not in [\"rep_loan_date\", 'first_loan', \"first_overdue_date\",\n",
        "                                           \"bad_flag\", \"score_1\", \"score_2\", \"past_billings_cnt\"]]"
      ]
    },
    {
      "cell_type": "code",
      "execution_count": 23,
      "metadata": {
        "colab": {
          "base_uri": "https://localhost:8080/"
        },
        "id": "NQ02Eh1F4Pin",
        "outputId": "cc043902-d317-4b43-95dc-27cf32fa221e"
      },
      "outputs": [
        {
          "output_type": "stream",
          "name": "stdout",
          "text": [
            "(5984, 47) (5984,)\n",
            "(1496, 47) (1496,)\n"
          ]
        }
      ],
      "source": [
        "y = df_upsampled.bad_flag\n",
        "X_train, X_test, y_train, y_test = train_test_split(df_upsampled[columns], y, test_size=0.2, random_state=42)\n",
        "print(X_train.shape, y_train.shape)\n",
        "print(X_test.shape, y_test.shape)"
      ]
    },
    {
      "cell_type": "markdown",
      "metadata": {
        "id": "ZG_Ucm7D4Pin"
      },
      "source": [
        "# Logistic regression"
      ]
    },
    {
      "cell_type": "code",
      "execution_count": 24,
      "metadata": {
        "colab": {
          "base_uri": "https://localhost:8080/"
        },
        "id": "kY0HwGeD4Pin",
        "outputId": "05d4df59-7f96-4b54-d959-67eefdb1ec47"
      },
      "outputs": [
        {
          "output_type": "stream",
          "name": "stdout",
          "text": [
            "Accuracy for logistic regression: 68.78\n"
          ]
        }
      ],
      "source": [
        "from sklearn.linear_model import LogisticRegression\n",
        "from sklearn import metrics\n",
        "model1 = LogisticRegression()\n",
        "model1.fit(X_train, y_train)\n",
        "y_pred1 = model1.predict(X_test)\n",
        "print(\"Accuracy for logistic regression: %.2f\" % (model1.score(X_test, y_test) * 100))"
      ]
    },
    {
      "cell_type": "code",
      "execution_count": 25,
      "metadata": {
        "colab": {
          "base_uri": "https://localhost:8080/"
        },
        "id": "OIt_LRII4Pin",
        "outputId": "4c613475-8115-4cc0-f4bd-c3755988dd56"
      },
      "outputs": [
        {
          "output_type": "stream",
          "name": "stdout",
          "text": [
            "10-fold cross validation average accuracy: 66.945\n"
          ]
        }
      ],
      "source": [
        "# evaluate the model using 10-fold cross-validation\n",
        "from sklearn import model_selection\n",
        "from sklearn.model_selection import cross_val_score\n",
        "results = model_selection.cross_val_score(model1, X_train, y_train, cv=10, scoring='accuracy')\n",
        "print(\"10-fold cross validation average accuracy: %.3f\" % (results.mean()* 100))"
      ]
    },
    {
      "cell_type": "code",
      "execution_count": 26,
      "metadata": {
        "colab": {
          "base_uri": "https://localhost:8080/"
        },
        "id": "hNnlHT8n4Pio",
        "outputId": "70758e5c-b283-4d38-b10a-f6358a2205cf"
      },
      "outputs": [
        {
          "output_type": "stream",
          "name": "stdout",
          "text": [
            "[[501 256]\n",
            " [211 528]]\n"
          ]
        }
      ],
      "source": [
        "from sklearn.metrics import confusion_matrix\n",
        "confusion_matrix = confusion_matrix(y_test, y_pred1)\n",
        "print(confusion_matrix)"
      ]
    },
    {
      "cell_type": "code",
      "execution_count": 27,
      "metadata": {
        "colab": {
          "base_uri": "https://localhost:8080/"
        },
        "id": "Ihyk0yJh4Pio",
        "outputId": "78230d0d-d1cf-4311-d43d-75bfd9b13bfe"
      },
      "outputs": [
        {
          "output_type": "stream",
          "name": "stdout",
          "text": [
            "              precision    recall  f1-score   support\n",
            "\n",
            "           0       0.70      0.66      0.68       757\n",
            "           1       0.67      0.71      0.69       739\n",
            "\n",
            "    accuracy                           0.69      1496\n",
            "   macro avg       0.69      0.69      0.69      1496\n",
            "weighted avg       0.69      0.69      0.69      1496\n",
            "\n"
          ]
        }
      ],
      "source": [
        "from sklearn.metrics import classification_report\n",
        "print(classification_report(y_test, y_pred1))"
      ]
    },
    {
      "cell_type": "code",
      "execution_count": 28,
      "metadata": {
        "colab": {
          "base_uri": "https://localhost:8080/",
          "height": 472
        },
        "id": "1amB8vO14Pio",
        "outputId": "90cea4d6-455c-4905-f8a3-8105eb5a1498"
      },
      "outputs": [
        {
          "output_type": "display_data",
          "data": {
            "text/plain": [
              "<Figure size 640x480 with 1 Axes>"
            ],
            "image/png": "[encoded data removed]"
          },
          "metadata": {}
        }
      ],
      "source": [
        "from sklearn.metrics import roc_auc_score\n",
        "from sklearn.metrics import roc_curve\n",
        "logit_roc_auc = roc_auc_score(y_test, model1.predict(X_test))\n",
        "fpr, tpr, thresholds = roc_curve(y_test, model1.predict_proba(X_test)[:,1])\n",
        "plt.figure()\n",
        "plt.plot(fpr, tpr, label='Logistic Regression (area = %0.2f)' % logit_roc_auc)\n",
        "plt.plot([0, 1], [0, 1],'r--')\n",
        "plt.xlim([0.0, 1.0])\n",
        "plt.ylim([0.0, 1.05])\n",
        "plt.xlabel('False Positive Rate')\n",
        "plt.ylabel('True Positive Rate')\n",
        "plt.title('Receiver operating characteristic')\n",
        "plt.legend(loc=\"lower right\")\n",
        "plt.savefig('Log_ROC')\n",
        "plt.show()"
      ]
    },
    {
      "cell_type": "markdown",
      "metadata": {
        "id": "gW99j-Lh4Pio"
      },
      "source": [
        "# Random forest"
      ]
    },
    {
      "cell_type": "code",
      "execution_count": 29,
      "metadata": {
        "colab": {
          "base_uri": "https://localhost:8080/"
        },
        "id": "yRx4jc-I4Pio",
        "outputId": "ed7fd12b-9859-4fd4-b0fb-cea424eb6637"
      },
      "outputs": [
        {
          "output_type": "stream",
          "name": "stdout",
          "text": [
            "Accuracy for random forest: 99.13\n"
          ]
        }
      ],
      "source": [
        "from sklearn.ensemble import RandomForestClassifier\n",
        "\n",
        "model2 = RandomForestClassifier(n_estimators = 100)\n",
        "model2 = model2.fit(X_train, y_train)\n",
        "y_pred2 = model2.predict(X_test)\n",
        "print(\"Accuracy for random forest: %.2f\" % (model2.score(X_test, y_test) * 100))"
      ]
    },
    {
      "cell_type": "code",
      "execution_count": 30,
      "metadata": {
        "colab": {
          "base_uri": "https://localhost:8080/"
        },
        "id": "NXKO73O14Piq",
        "outputId": "6608e565-03ae-4f2f-9ec7-024ad6a776e8"
      },
      "outputs": [
        {
          "output_type": "stream",
          "name": "stdout",
          "text": [
            "10-fold cross validation average accuracy: 98.446\n"
          ]
        }
      ],
      "source": [
        "# evaluate the model using 10-fold cross-validation\n",
        "results = model_selection.cross_val_score(model2, X_train, y_train, cv=10, scoring='accuracy')\n",
        "print(\"10-fold cross validation average accuracy: %.3f\" % (results.mean()* 100))"
      ]
    },
    {
      "cell_type": "code",
      "execution_count": 31,
      "metadata": {
        "colab": {
          "base_uri": "https://localhost:8080/"
        },
        "id": "GxAGb1b64Pir",
        "outputId": "00f49044-0b5c-4283-bb43-7ef5d5c24fad"
      },
      "outputs": [
        {
          "output_type": "stream",
          "name": "stdout",
          "text": [
            "[[744  13]\n",
            " [  0 739]]\n"
          ]
        }
      ],
      "source": [
        "from sklearn.metrics import confusion_matrix\n",
        "confusion_matrix = confusion_matrix(y_test, y_pred2)\n",
        "print(confusion_matrix)"
      ]
    },
    {
      "cell_type": "code",
      "execution_count": 32,
      "metadata": {
        "colab": {
          "base_uri": "https://localhost:8080/"
        },
        "id": "ctk4nHr24Pir",
        "outputId": "67e2fdd2-2df6-4287-94d7-8fb56a3e5d1f"
      },
      "outputs": [
        {
          "output_type": "stream",
          "name": "stdout",
          "text": [
            "              precision    recall  f1-score   support\n",
            "\n",
            "           0       0.70      0.66      0.68       757\n",
            "           1       0.67      0.71      0.69       739\n",
            "\n",
            "    accuracy                           0.69      1496\n",
            "   macro avg       0.69      0.69      0.69      1496\n",
            "weighted avg       0.69      0.69      0.69      1496\n",
            "\n"
          ]
        }
      ],
      "source": [
        "print(classification_report(y_test, y_pred1))"
      ]
    },
    {
      "cell_type": "code",
      "execution_count": 33,
      "metadata": {
        "colab": {
          "base_uri": "https://localhost:8080/"
        },
        "id": "ExWOc5Qg4Pir",
        "outputId": "9a235e46-828a-45db-ad50-f89ab83d74da"
      },
      "outputs": [
        {
          "output_type": "execute_result",
          "data": {
            "text/plain": [
              "[('close_loans_cnt', 0.04869788610650379),\n",
              " ('TraderKey', 0.04939246440781039),\n",
              " ('payment_type_0', 0.0017686409320258462),\n",
              " ('payment_type_1', 0.019209944717736294),\n",
              " ('payment_type_2', 0.06052670902565737),\n",
              " ('payment_type_3', 0.03256956028047577),\n",
              " ('payment_type_4', 0.0014150175544088031),\n",
              " ('payment_type_5', 0.0),\n",
              " ('age', 0.11608221191370519),\n",
              " ('gender', 0.01647813596796862),\n",
              " ('first_loan_year', 0.01248526309505488),\n",
              " ('first_loan_month', 0.06401377590017546),\n",
              " ('first_loan_day', 0.09064123311902623),\n",
              " ('rep_loan_date_year', 0.013543055948354265),\n",
              " ('rep_loan_date_month', 0.06357017758026301),\n",
              " ('rep_loan_date_day', 0.08514405371478809),\n",
              " ('first_overdue_year', 0.010673021403114203),\n",
              " ('first_overdue_month', 0.01859592297317788),\n",
              " ('first_overdue_day', 0.017672225492688456),\n",
              " ('Difference', 0.024951073188921705),\n",
              " ('Recurrence', 0.1380847533977321),\n",
              " ('federal_district_nm_region_0', 0.0075309337104297255),\n",
              " ('federal_district_nm_region_1', 0.008102036755060514),\n",
              " ('federal_district_nm_region_2', 0.010821774906614706),\n",
              " ('federal_district_nm_region_3', 0.01716753571281476),\n",
              " ('federal_district_nm_region_4', 0.015578128127056352),\n",
              " ('federal_district_nm_region_5', 0.006888539963138336),\n",
              " ('federal_district_nm_region_6', 0.012442308367584528),\n",
              " ('federal_district_nm_region_7', 0.0027874751877010914),\n",
              " ('dpd_5_cnt_0.0', 0.00014320193795050413),\n",
              " ('dpd_5_cnt_1.0', 0.0032713951353278378),\n",
              " ('dpd_5_cnt_2.0', 0.003648003889786433),\n",
              " ('dpd_5_cnt_3.0', 0.0018759297223999198),\n",
              " ('dpd_5_cnt_4.0', 0.0007883607351653792),\n",
              " ('dpd_5_cnt_5.0', 0.0003233644806447227),\n",
              " ('dpd_5_cnt_6.0', 0.00020601350607117854),\n",
              " ('dpd_5_cnt_7.0', 1.8672358250171008e-05),\n",
              " ('dpd_15_cnt_0.0', 0.0033548969033857937),\n",
              " ('dpd_15_cnt_1.0', 0.0062897178643191425),\n",
              " ('dpd_15_cnt_2.0', 0.001547284287837358),\n",
              " ('dpd_15_cnt_3.0', 0.0003613015638274146),\n",
              " ('dpd_15_cnt_4.0', 0.0003246705757775346),\n",
              " ('dpd_15_cnt_5.0', 0.00012201575149246167),\n",
              " ('dpd_30_cnt_0.0', 0.005606224156738017),\n",
              " ('dpd_30_cnt_1.0', 0.004447046977392119),\n",
              " ('dpd_30_cnt_2.0', 0.0008213695191803903),\n",
              " ('dpd_30_cnt_3.0', 1.6671184465072855e-05)]"
            ]
          },
          "metadata": {},
          "execution_count": 33
        }
      ],
      "source": [
        "list(zip(X_train, model2.feature_importances_))"
      ]
    },
    {
      "cell_type": "code",
      "execution_count": 34,
      "metadata": {
        "colab": {
          "base_uri": "https://localhost:8080/",
          "height": 472
        },
        "id": "MCZob5x84Pis",
        "outputId": "37682873-e963-4b59-bc68-73ebe278a515"
      },
      "outputs": [
        {
          "output_type": "display_data",
          "data": {
            "text/plain": [
              "<Figure size 640x480 with 1 Axes>"
            ],
            "image/png": "[encoded data removed]"
          },
          "metadata": {}
        }
      ],
      "source": [
        "logit_roc_auc2 = roc_auc_score(y_test, model2.predict(X_test))\n",
        "fpr2, tpr2, thresholds2 = roc_curve(y_test, model2.predict_proba(X_test)[:,1])\n",
        "plt.figure()\n",
        "plt.plot(fpr2, tpr2, label='Random Forest (area = %0.2f)' % logit_roc_auc2)\n",
        "plt.plot([0, 1], [0, 1],'r--')\n",
        "plt.xlim([0.0, 1.0])\n",
        "plt.ylim([0.0, 1.05])\n",
        "plt.xlabel('False Positive Rate')\n",
        "plt.ylabel('True Positive Rate')\n",
        "plt.title('Receiver operating characteristic')\n",
        "plt.legend(loc=\"lower right\")\n",
        "plt.savefig('Random_Forest_ROC')\n",
        "plt.show()"
      ]
    },
    {
      "cell_type": "markdown",
      "metadata": {
        "id": "g8OsMAzB4Pis"
      },
      "source": [
        "# XGboost Classification"
      ]
    },
    {
      "cell_type": "code",
      "execution_count": 35,
      "metadata": {
        "colab": {
          "base_uri": "https://localhost:8080/"
        },
        "id": "EoKtsYnW4Pis",
        "outputId": "dfff70c3-0eef-42b4-c647-f0bc762a140d"
      },
      "outputs": [
        {
          "output_type": "stream",
          "name": "stdout",
          "text": [
            "Accuracy for XGBoost: 97.26\n"
          ]
        }
      ],
      "source": [
        "model3 = xgboost.XGBClassifier(\n",
        " learning_rate =0.1,\n",
        " n_estimators=1000,\n",
        " max_depth=5,\n",
        " min_child_weight=1,\n",
        " gamma=0,\n",
        " subsample=0.8,\n",
        " colsample_bytree=0.8,\n",
        " objective= 'binary:logistic',\n",
        " nthread=4,\n",
        " scale_pos_weight=1,\n",
        " seed=27)\n",
        "\n",
        "model3.fit(X_train, y_train)\n",
        "y_pred3 = model3.predict(X_test)\n",
        "print(\"Accuracy for XGBoost: %.2f\" % (model3.score(X_test, y_test) * 100))"
      ]
    },
    {
      "cell_type": "code",
      "execution_count": 36,
      "metadata": {
        "colab": {
          "base_uri": "https://localhost:8080/"
        },
        "id": "SI4_WiP94Pis",
        "outputId": "c13d46c0-14c9-459d-b893-d6834fb857f6"
      },
      "outputs": [
        {
          "output_type": "stream",
          "name": "stdout",
          "text": [
            "10-fold cross validation average accuracy: 96.675\n"
          ]
        }
      ],
      "source": [
        "# evaluate the model using 10-fold cross-validation\n",
        "results = model_selection.cross_val_score(model3, X_train, y_train, cv=10, scoring='accuracy')\n",
        "print(\"10-fold cross validation average accuracy: %.3f\" % (results.mean()* 100))"
      ]
    },
    {
      "cell_type": "code",
      "execution_count": 37,
      "metadata": {
        "colab": {
          "base_uri": "https://localhost:8080/"
        },
        "id": "6AA0jkDB4Pit",
        "outputId": "73d1702f-5c5e-460e-cd30-b79c1fc35f25"
      },
      "outputs": [
        {
          "output_type": "stream",
          "name": "stdout",
          "text": [
            "[[716  41]\n",
            " [  0 739]]\n"
          ]
        }
      ],
      "source": [
        "from sklearn.metrics import confusion_matrix\n",
        "confusion_matrix = confusion_matrix(y_test, y_pred3)\n",
        "print(confusion_matrix)"
      ]
    },
    {
      "cell_type": "code",
      "execution_count": 38,
      "metadata": {
        "colab": {
          "base_uri": "https://localhost:8080/"
        },
        "id": "8di8B2sz4Piu",
        "outputId": "7a6e7943-957d-4ada-87d0-ec1a5235fb91"
      },
      "outputs": [
        {
          "output_type": "stream",
          "name": "stdout",
          "text": [
            "              precision    recall  f1-score   support\n",
            "\n",
            "           0       1.00      0.95      0.97       757\n",
            "           1       0.95      1.00      0.97       739\n",
            "\n",
            "    accuracy                           0.97      1496\n",
            "   macro avg       0.97      0.97      0.97      1496\n",
            "weighted avg       0.97      0.97      0.97      1496\n",
            "\n"
          ]
        }
      ],
      "source": [
        "print(classification_report(y_test, y_pred3))"
      ]
    },
    {
      "cell_type": "code",
      "execution_count": 39,
      "metadata": {
        "colab": {
          "base_uri": "https://localhost:8080/",
          "height": 472
        },
        "id": "JgmOuYnR4Piu",
        "outputId": "c57388d4-175f-4a92-a646-a14e173867ee"
      },
      "outputs": [
        {
          "output_type": "display_data",
          "data": {
            "text/plain": [
              "<Figure size 640x480 with 1 Axes>"
            ],
            "image/png": "[encoded data removed]"
          },
          "metadata": {}
        }
      ],
      "source": [
        "logit_roc_auc3 = roc_auc_score(y_test, model3.predict(X_test))\n",
        "fpr3, tpr3, thresholds3 = roc_curve(y_test, model3.predict_proba(X_test)[:,1])\n",
        "plt.figure()\n",
        "plt.plot(fpr3, tpr3, label='XGboost (area = %0.2f)' % logit_roc_auc3)\n",
        "plt.plot([0, 1], [0, 1],'r--')\n",
        "plt.xlim([0.0, 1.0])\n",
        "plt.ylim([0.0, 1.05])\n",
        "plt.xlabel('False Positive Rate')\n",
        "plt.ylabel('True Positive Rate')\n",
        "plt.title('Receiver operating characteristic')\n",
        "plt.legend(loc=\"lower right\")\n",
        "plt.savefig('XGboost_ROC')\n",
        "plt.show()"
      ]
    },
    {
      "cell_type": "markdown",
      "metadata": {
        "id": "Fgg3xqj54Piu"
      },
      "source": [
        "# SVM classifier"
      ]
    },
    {
      "cell_type": "code",
      "execution_count": 40,
      "metadata": {
        "colab": {
          "base_uri": "https://localhost:8080/"
        },
        "id": "2SxvJIKf4Piv",
        "outputId": "cb07531e-f7fc-4ff6-d4a0-a3a1aada2960"
      },
      "outputs": [
        {
          "output_type": "stream",
          "name": "stdout",
          "text": [
            "# Tuning hyper-parameters for precision\n",
            "\n",
            "Best parameters set found on development set: {'C': 100, 'gamma': 0.001, 'kernel': 'rbf'}\n",
            "Grid scores on development set:\n",
            "\n",
            "0.765 (+/-0.007) for {'C': 1, 'gamma': 0.001, 'kernel': 'rbf'}\n",
            "0.683 (+/-0.014) for {'C': 1, 'gamma': 0.0001, 'kernel': 'rbf'}\n",
            "0.863 (+/-0.007) for {'C': 10, 'gamma': 0.001, 'kernel': 'rbf'}\n",
            "0.716 (+/-0.010) for {'C': 10, 'gamma': 0.0001, 'kernel': 'rbf'}\n",
            "0.921 (+/-0.004) for {'C': 100, 'gamma': 0.001, 'kernel': 'rbf'}\n",
            "0.757 (+/-0.026) for {'C': 100, 'gamma': 0.0001, 'kernel': 'rbf'}\n",
            "0.675 (+/-0.020) for {'C': 1, 'kernel': 'linear'}\n",
            "0.679 (+/-0.040) for {'C': 10, 'kernel': 'linear'}\n",
            "0.679 (+/-0.041) for {'C': 100, 'kernel': 'linear'}\n",
            "\n",
            " Detailed classification report:\n",
            "\n",
            "The model is trained on the full development set.\n",
            "The scores are computed on the full evaluation set.\n",
            "\n",
            "              precision    recall  f1-score   support\n",
            "\n",
            "           0       0.99      0.86      0.92       757\n",
            "           1       0.88      0.99      0.93       739\n",
            "\n",
            "    accuracy                           0.93      1496\n",
            "   macro avg       0.93      0.93      0.93      1496\n",
            "weighted avg       0.93      0.93      0.93      1496\n",
            "\n",
            "\n",
            "# Tuning hyper-parameters for recall\n",
            "\n",
            "Best parameters set found on development set: {'C': 100, 'gamma': 0.001, 'kernel': 'rbf'}\n",
            "Grid scores on development set:\n",
            "\n",
            "0.763 (+/-0.007) for {'C': 1, 'gamma': 0.001, 'kernel': 'rbf'}\n",
            "0.681 (+/-0.011) for {'C': 1, 'gamma': 0.0001, 'kernel': 'rbf'}\n",
            "0.853 (+/-0.008) for {'C': 10, 'gamma': 0.001, 'kernel': 'rbf'}\n",
            "0.714 (+/-0.009) for {'C': 10, 'gamma': 0.0001, 'kernel': 'rbf'}\n",
            "0.910 (+/-0.008) for {'C': 100, 'gamma': 0.001, 'kernel': 'rbf'}\n",
            "0.756 (+/-0.024) for {'C': 100, 'gamma': 0.0001, 'kernel': 'rbf'}\n",
            "0.670 (+/-0.021) for {'C': 1, 'kernel': 'linear'}\n",
            "0.654 (+/-0.039) for {'C': 10, 'kernel': 'linear'}\n",
            "0.650 (+/-0.041) for {'C': 100, 'kernel': 'linear'}\n",
            "\n",
            " Detailed classification report:\n",
            "\n",
            "The model is trained on the full development set.\n",
            "The scores are computed on the full evaluation set.\n",
            "\n",
            "              precision    recall  f1-score   support\n",
            "\n",
            "           0       0.99      0.86      0.92       757\n",
            "           1       0.88      0.99      0.93       739\n",
            "\n",
            "    accuracy                           0.93      1496\n",
            "   macro avg       0.93      0.93      0.93      1496\n",
            "weighted avg       0.93      0.93      0.93      1496\n",
            "\n",
            "\n"
          ]
        }
      ],
      "source": [
        "from sklearn import svm\n",
        "from sklearn.model_selection import GridSearchCV\n",
        "# Set the parameters to try\n",
        "# Gaussian radial basis function kernel\n",
        "tuned_parameters = [{'kernel': ['rbf'], 'gamma': [1e-3, 1e-4],\n",
        "                     'C': [1, 10, 100]},\n",
        "                    {'kernel': ['linear'], 'C': [1, 10, 100]}]\n",
        "scores = ['precision', 'recall']\n",
        "\n",
        "for score in scores:\n",
        "    print(\"# Tuning hyper-parameters for %s\" % score)\n",
        "    model4 = svm.SVC()\n",
        "    model4 = GridSearchCV(model4, tuned_parameters, cv=5, scoring='%s_macro' % score)\n",
        "    model4.fit(X_train, y_train)\n",
        "\n",
        "    print(\"\\nBest parameters set found on development set: %r\" % (model4.best_params_))\n",
        "    print(\"Grid scores on development set:\\n\")\n",
        "\n",
        "    means = model4.cv_results_['mean_test_score']\n",
        "    stds = model4.cv_results_['std_test_score']\n",
        "    for mean, std, params in zip(means, stds, model4.cv_results_['params']):\n",
        "        print(\"%0.3f (+/-%0.03f) for %r\" % (mean, std * 2, params))\n",
        "    print(\"\\n Detailed classification report:\\n\")\n",
        "    print(\"The model is trained on the full development set.\")\n",
        "    print(\"The scores are computed on the full evaluation set.\\n\")\n",
        "\n",
        "    y_pred4 = model4.predict(X_test)\n",
        "    print(classification_report(y_test, y_pred4))\n",
        "    print()"
      ]
    },
    {
      "cell_type": "code",
      "execution_count": 41,
      "metadata": {
        "id": "wod_faA14Piv",
        "outputId": "29273745-bdab-437c-9cbd-a53209fc1aa8",
        "colab": {
          "base_uri": "https://localhost:8080/"
        }
      },
      "outputs": [
        {
          "output_type": "stream",
          "name": "stdout",
          "text": [
            "Accuracy for support vector classifier: 94.25\n"
          ]
        }
      ],
      "source": [
        "from sklearn import svm\n",
        "#Training with the best parameters: {'C': 1, 'kernel': 'linear'}\n",
        "model4 = svm.SVC(C = 1000, kernel='rbf', gamma = 0.001, probability=True)\n",
        "model4.fit(X_train, y_train)\n",
        "y_pred4 = model4.predict(X_test)\n",
        "print(\"Accuracy for support vector classifier: %.2f\" % (model4.score(X_test, y_test) * 100))"
      ]
    },
    {
      "cell_type": "code",
      "execution_count": 42,
      "metadata": {
        "id": "PD9hNDmB4Piv",
        "outputId": "38bfe568-83c4-48a5-adc2-d001cfa1adc5",
        "colab": {
          "base_uri": "https://localhost:8080/"
        }
      },
      "outputs": [
        {
          "output_type": "stream",
          "name": "stdout",
          "text": [
            "[[671  86]\n",
            " [  0 739]]\n"
          ]
        }
      ],
      "source": [
        "from sklearn.metrics import confusion_matrix\n",
        "confusion_matrix = confusion_matrix(y_test, y_pred4)\n",
        "print(confusion_matrix)"
      ]
    },
    {
      "cell_type": "code",
      "execution_count": 43,
      "metadata": {
        "id": "LgWEdTFM4Piv",
        "outputId": "9e48098b-8a8b-4be7-faa4-cfccef3826fc",
        "colab": {
          "base_uri": "https://localhost:8080/"
        }
      },
      "outputs": [
        {
          "output_type": "stream",
          "name": "stdout",
          "text": [
            "              precision    recall  f1-score   support\n",
            "\n",
            "           0       1.00      0.89      0.94       757\n",
            "           1       0.90      1.00      0.95       739\n",
            "\n",
            "    accuracy                           0.94      1496\n",
            "   macro avg       0.95      0.94      0.94      1496\n",
            "weighted avg       0.95      0.94      0.94      1496\n",
            "\n"
          ]
        }
      ],
      "source": [
        "print(classification_report(y_test, y_pred4))"
      ]
    },
    {
      "cell_type": "code",
      "execution_count": 44,
      "metadata": {
        "id": "YYG_hfNp4Piv",
        "outputId": "f474e64f-318a-4a6c-fbda-540365817abf",
        "colab": {
          "base_uri": "https://localhost:8080/",
          "height": 472
        }
      },
      "outputs": [
        {
          "output_type": "display_data",
          "data": {
            "text/plain": [
              "<Figure size 640x480 with 1 Axes>"
            ],
            "image/png": "[encoded data removed]"
          },
          "metadata": {}
        }
      ],
      "source": [
        "logit_roc_auc4 = roc_auc_score(y_test, model4.predict(X_test))\n",
        "fpr4, tpr4, thresholds4 = roc_curve(y_test, model4.predict_proba(X_test)[:,1])\n",
        "plt.figure()\n",
        "plt.plot(fpr4, tpr4, label='SVC (area = %0.2f)' % logit_roc_auc4)\n",
        "plt.plot([0, 1], [0, 1],'r--')\n",
        "plt.xlim([0.0, 1.0])\n",
        "plt.ylim([0.0, 1.05])\n",
        "plt.xlabel('False Positive Rate')\n",
        "plt.ylabel('True Positive Rate')\n",
        "plt.title('Receiver operating characteristic')\n",
        "plt.legend(loc = \"lower right\")\n",
        "plt.savefig('SVC_ROC')\n",
        "plt.show()"
      ]
    },
    {
      "cell_type": "markdown",
      "metadata": {
        "id": "jEfnHXk74Piv"
      },
      "source": [
        "# Summary"
      ]
    },
    {
      "cell_type": "code",
      "execution_count": 45,
      "metadata": {
        "id": "SstH20Kx4Piw",
        "outputId": "a28fb184-8bfb-4eef-d49b-5ab5c57d00d2",
        "colab": {
          "base_uri": "https://localhost:8080/",
          "height": 490
        }
      },
      "outputs": [
        {
          "output_type": "execute_result",
          "data": {
            "text/plain": [
              "<matplotlib.legend.Legend at 0x78597a284d50>"
            ]
          },
          "metadata": {},
          "execution_count": 45
        },
        {
          "output_type": "display_data",
          "data": {
            "text/plain": [
              "<Figure size 640x480 with 1 Axes>"
            ],
            "image/png": "[encoded data removed]"
          },
          "metadata": {}
        }
      ],
      "source": [
        "from sklearn import metrics\n",
        "import numpy as np\n",
        "import matplotlib.pyplot as plt\n",
        "\n",
        "plt.figure(0).clf()\n",
        "\n",
        "pred = np.random.rand(1000)\n",
        "label = np.random.randint(2, size=1000)\n",
        "fpr1, tpr1, thresholds1 = roc_curve(y_test, model1.predict_proba(X_test)[:,1])\n",
        "auc1 = roc_auc_score(y_test, model1.predict(X_test))\n",
        "plt.plot(fpr1,tpr1,label=\"Logistic regression, auc=\"+str(auc1))\n",
        "\n",
        "pred = np.random.rand(1000)\n",
        "label = np.random.randint(2, size=1000)\n",
        "fpr2, tpr2, thresholds2 = roc_curve(y_test, model2.predict_proba(X_test)[:,1])\n",
        "auc2 = roc_auc_score(y_test, model2.predict(X_test))\n",
        "plt.plot(fpr2,tpr2,label=\"Random forest, auc=\"+str(auc2))\n",
        "\n",
        "\n",
        "pred = np.random.rand(1000)\n",
        "label = np.random.randint(2, size=1000)\n",
        "fpr3, tpr3, thresholds3 = roc_curve(y_test, model3.predict_proba(X_test)[:,1])\n",
        "auc3 = roc_auc_score(y_test, model3.predict(X_test))\n",
        "plt.plot(fpr3,tpr3,label=\"XGBoost, auc=\"+str(auc3))\n",
        "\n",
        "\n",
        "pred = np.random.rand(1000)\n",
        "label = np.random.randint(2, size=1000)\n",
        "fpr4, tpr4, thresholds4 = roc_curve(y_test, model4.predict_proba(X_test)[:,1])\n",
        "auc4 = roc_auc_score(y_test, model4.predict(X_test))\n",
        "plt.plot(fpr4,tpr4,label=\"SVC, auc=\"+str(auc4))\n",
        "\n",
        "\n",
        "plt.plot([0, 1], [0, 1],'r--')\n",
        "plt.xlim([0.0, 1.0])\n",
        "plt.ylim([0.0, 1.05])\n",
        "plt.xlabel('False Positive Rate')\n",
        "plt.ylabel('True Positive Rate')\n",
        "plt.title('Receiver operating characteristic')\n",
        "plt.legend(loc=\"lower right\")\n",
        "plt.savefig('Total_ROC')\n",
        "\n",
        "plt.legend(loc=0)"
      ]
    },
    {
      "cell_type": "code",
      "execution_count": 46,
      "metadata": {
        "id": "6FsF_lk54Piw"
      },
      "outputs": [],
      "source": [
        "# define a function that accepts a threshold and prints sensitivity and specificity\n",
        "def evaluate_threshold(threshold2):\n",
        "    print('Sensitivity:', tpr2[thresholds2 > threshold2][-1])\n",
        "    print('Specificity:', 1 - fpr2[thresholds2 > threshold2][-1])"
      ]
    },
    {
      "cell_type": "code",
      "execution_count": 47,
      "metadata": {
        "id": "wWI8bKMH4Piw",
        "outputId": "118759ed-cc4f-436e-d2ba-9e7a0b16af9f",
        "colab": {
          "base_uri": "https://localhost:8080/"
        }
      },
      "outputs": [
        {
          "output_type": "stream",
          "name": "stdout",
          "text": [
            "Sensitivity: 0.9986468200270636\n",
            "Specificity: 1.0\n"
          ]
        }
      ],
      "source": [
        "evaluate_threshold(0.8)\n",
        "# Sensitivity - true positive rate - defaults correctly identified\n",
        "# Specificity - false positive rate - good loans correctly identified"
      ]
    },
    {
      "cell_type": "code",
      "execution_count": 48,
      "metadata": {
        "id": "qeqpOJ104Piw",
        "outputId": "5287e2d0-64c3-473c-c34d-1e14a7ea1532",
        "colab": {
          "base_uri": "https://localhost:8080/"
        }
      },
      "outputs": [
        {
          "output_type": "stream",
          "name": "stdout",
          "text": [
            "Sensitivity: 1.0\n",
            "Specificity: 0.8982826948480845\n"
          ]
        }
      ],
      "source": [
        "evaluate_threshold(0.33)\n",
        "# Sensitivity - true positive rate - defaults correctly identified\n",
        "# Specificity - false positive rate - good loans correctly identified"
      ]
    },
    {
      "cell_type": "markdown",
      "metadata": {
        "id": "0DzuHgKFD7Gj"
      },
      "source": [
        "Основные выводы:\n",
        "\n",
        "В работе построены 4 модели прогнозирования значения целевой переменной bad_flag:\n",
        "1. Логистическая регрессия\n",
        "2. Случайный лес\n",
        "3. XGboost Classification\n",
        "4. SVC Classification\n",
        "\n",
        "Наилучшие результаты были получены в модели случайного леса (accuracy 99.13), тогда как логистическая регрессия показала наихудший, из рассмотренных моделей, результат (accuracy 68.78). Модель SVC Classification также не рекомендуется из-за слишком долгого и медленного обучения и реализации.\n",
        "\n",
        "Модель случайного леса может быть использована в дальнейшем для прогнозирования значения целевой переменной bad_flag."
      ]
    },
    {
      "cell_type": "markdown",
      "metadata": {
        "id": "DPI-zXsYHv1J"
      },
      "source": [
        "Теперь создадим слайды для презентации в power point"
      ]
    },
    {
      "cell_type": "code",
      "execution_count": 49,
      "metadata": {
        "colab": {
          "base_uri": "https://localhost:8080/"
        },
        "id": "QZhQHm1SH1v4",
        "outputId": "bc9d2257-5919-406c-ae80-00f37506aa5e"
      },
      "outputs": [
        {
          "output_type": "stream",
          "name": "stdout",
          "text": [
            "Collecting python-pptx\n",
            "  Downloading python_pptx-1.0.2-py3-none-any.whl.metadata (2.5 kB)\n",
            "Requirement already satisfied: Pillow>=3.3.2 in /usr/local/lib/python3.11/dist-packages (from python-pptx) (11.1.0)\n",
            "Collecting XlsxWriter>=0.5.7 (from python-pptx)\n",
            "  Downloading XlsxWriter-3.2.2-py3-none-any.whl.metadata (2.8 kB)\n",
            "Requirement already satisfied: lxml>=3.1.0 in /usr/local/lib/python3.11/dist-packages (from python-pptx) (5.3.1)\n",
            "Requirement already satisfied: typing-extensions>=4.9.0 in /usr/local/lib/python3.11/dist-packages (from python-pptx) (4.12.2)\n",
            "Downloading python_pptx-1.0.2-py3-none-any.whl (472 kB)\n",
            "\u001b[2K   \u001b[90m━━━━━━━━━━━━━━━━━━━━━━━━━━━━━━━━━━━━━━━━\u001b[0m \u001b[32m472.8/472.8 kB\u001b[0m \u001b[31m21.7 MB/s\u001b[0m eta \u001b[36m0:00:00\u001b[0m\n",
            "\u001b[?25hDownloading XlsxWriter-3.2.2-py3-none-any.whl (165 kB)\n",
            "\u001b[2K   \u001b[90m━━━━━━━━━━━━━━━━━━━━━━━━━━━━━━━━━━━━━━━━\u001b[0m \u001b[32m165.1/165.1 kB\u001b[0m \u001b[31m13.1 MB/s\u001b[0m eta \u001b[36m0:00:00\u001b[0m\n",
            "\u001b[?25hInstalling collected packages: XlsxWriter, python-pptx\n",
            "Successfully installed XlsxWriter-3.2.2 python-pptx-1.0.2\n"
          ]
        }
      ],
      "source": [
        "! pip install python-pptx"
      ]
    },
    {
      "cell_type": "code",
      "execution_count": 50,
      "metadata": {
        "id": "_0SSiF4qIaiY"
      },
      "outputs": [],
      "source": [
        "from pptx import Presentation\n",
        "from pptx.util import Inches, Pt  # Импортируем Pt для задания размера шрифта\n",
        "from pptx.enum.text import PP_ALIGN, MSO_AUTO_SIZE\n",
        "from pptx.dml.color import RGBColor"
      ]
    },
    {
      "cell_type": "code",
      "execution_count": 51,
      "metadata": {
        "id": "UG-y2pmtIgVp"
      },
      "outputs": [],
      "source": [
        "# Создаем новую презентацию\n",
        "prs = Presentation()"
      ]
    },
    {
      "cell_type": "code",
      "execution_count": 52,
      "metadata": {
        "id": "lKEsfcT0Iosa"
      },
      "outputs": [],
      "source": [
        "# Добавляем слайд с макетом \"Заголовок и содержимое\"\n",
        "title_slide_layout = prs.slide_layouts[1] # 1 - это макет \"Заголовок и содержимое\"\n",
        "slide = prs.slides.add_slide(title_slide_layout)"
      ]
    },
    {
      "cell_type": "code",
      "execution_count": 53,
      "metadata": {
        "id": "XX-yMitnJsaK"
      },
      "outputs": [],
      "source": [
        "# Добавляем заголовок слайда\n",
        "title = slide.shapes.title\n",
        "title.text = \"Тестовое задание для компании Мокка\""
      ]
    },
    {
      "cell_type": "code",
      "execution_count": 54,
      "metadata": {
        "id": "RSM3C3fEKW6G"
      },
      "outputs": [],
      "source": [
        "# Получаем объект TextFrame для содержимого слайда\n",
        "content = slide.shapes.placeholders[1].text_frame\n",
        "\n",
        "# Очищаем текст по умолчанию (если есть)\n",
        "content.clear()\n",
        "\n",
        "# Добавляем первый абзац\n",
        "paragraph1 = content.add_paragraph()\n",
        "paragraph1.text = \"Задание: Предсказание отказа в кредите\"\n",
        "paragraph1.font.bold = True  # Жирный шрифт\n",
        "paragraph1.font.size = Pt(18)  # Размер шрифта\n",
        "paragraph1.font.color.rgb = RGBColor(0, 0, 255)  # Синий цвет текста\n",
        "paragraph1.font.italic = True  # Курсив\n",
        "paragraph1.font.name = 'Times New Roman'  # Шрифт Times New Roman\n",
        "\n",
        "# Добавляем второй абзац\n",
        "paragraph2 = content.add_paragraph()\n",
        "paragraph2.text = \"По имеющемуся набору данных, необходимо построить модель, которая будет прогнозировать значение целевой переменной bad_flag\"\n",
        "paragraph2.font.bold = True  # Жирный шрифт\n",
        "paragraph2.font.size = Pt(18)  # Размер шрифта\n",
        "paragraph2.font.color.rgb = RGBColor(0, 0, 255)  # Синий цвет текста\n",
        "paragraph2.font.italic = True  # Курсив\n",
        "paragraph2.font.name = 'Times New Roman'  # Шрифт Times New Roman"
      ]
    },
    {
      "cell_type": "code",
      "execution_count": 55,
      "metadata": {
        "id": "KFjhq1p4Lp29"
      },
      "outputs": [],
      "source": [
        "# добавим еще один слайд\n",
        "title_slide_layout = prs.slide_layouts[1]\n",
        "slide = prs.slides.add_slide(title_slide_layout)"
      ]
    },
    {
      "cell_type": "code",
      "execution_count": 56,
      "metadata": {
        "id": "F_hGa6tnOh5-"
      },
      "outputs": [],
      "source": [
        "# Добавляем заголовок слайда\n",
        "title = slide.shapes.title\n",
        "title.text = \"Что было сделано и результаты\""
      ]
    },
    {
      "cell_type": "code",
      "execution_count": 57,
      "metadata": {
        "id": "UbKg6tdmMDxl"
      },
      "outputs": [],
      "source": [
        "# Получаем объект TextFrame для содержимого слайда\n",
        "content = slide.shapes.placeholders[1].text_frame\n",
        "\n",
        "# Очищаем текст по умолчанию (если есть)\n",
        "content.clear()\n",
        "\n",
        "# Добавляем первый абзац\n",
        "paragraph1 = content.add_paragraph()\n",
        "paragraph1.text = \"В работе построены следующие модели:\"\n",
        "paragraph1.font.size = Pt(16)  # Размер шрифта\n",
        "paragraph1.font.name = 'Times New Roman'  # Шрифт Times New Roman\n",
        "\n",
        "# Добавляем второй абзац\n",
        "paragraph2 = content.add_paragraph()\n",
        "paragraph2.text = \"1. Логистическая регрессия\"\n",
        "paragraph2.font.size = Pt(14)  # Размер шрифта\n",
        "paragraph2.font.name = 'Times New Roman'  # Шрифт Times New Roman\n",
        "\n",
        "# Добавляем третий абзац\n",
        "paragraph3 = content.add_paragraph()\n",
        "paragraph3.text = \"2. Случайный лес\"\n",
        "paragraph3.font.size = Pt(14)  # Размер шрифта\n",
        "paragraph3.font.name = 'Times New Roman'  # Шрифт Times New Roman\n",
        "\n",
        "# Добавляем четвертый абзац\n",
        "paragraph4 = content.add_paragraph()\n",
        "paragraph4.text = \"3. XGBoost\"\n",
        "paragraph4.font.size = Pt(14)  # Размер шрифта\n",
        "paragraph4.font.name = 'Times New Roman'  # Шрифт Times New Roman\n",
        "\n",
        "# Добавляем пятый абзац\n",
        "paragraph5 = content.add_paragraph()\n",
        "paragraph5.text = \"4. SVC\"\n",
        "paragraph5.font.size = Pt(14)  # Размер шрифта\n",
        "paragraph5.font.name = 'Times New Roman'  # Шрифт Times New Roman\n",
        "\n",
        "# Добавляем шестой абзац\n",
        "paragraph6 = content.add_paragraph()\n",
        "paragraph6.text = \"Accuracy по моделям составили:\"\n",
        "paragraph6.font.size = Pt(16)  # Размер шрифта\n",
        "paragraph6.font.name = 'Times New Roman'  # Шрифт Times New Roman\n",
        "\n",
        "# Добавляем седьмой абзац\n",
        "paragraph7 = content.add_paragraph()\n",
        "paragraph7.text = \"1. Logistic regression: %.2f\" % (model1.score(X_test, y_test) * 100)\n",
        "paragraph7.font.size = Pt(14)\n",
        "paragraph7.font.name = 'Times New Roman'  # Шрифт Times New Roman\n",
        "\n",
        "# Добавляем восьмой абзац\n",
        "paragraph8 = content.add_paragraph()\n",
        "paragraph8.text = \"2. Random forest: %.2f\" % (model2.score(X_test, y_test) * 100)\n",
        "paragraph8.font.size = Pt(14)\n",
        "paragraph8.font.name = 'Times New Roman'  # Шрифт Times New Roman\n",
        "\n",
        "# Добавляем девятый абзац\n",
        "paragraph9 = content.add_paragraph()\n",
        "paragraph9.text = \"3. XGBoost: %.2f\" % (model3.score(X_test, y_test) * 100)\n",
        "paragraph9.font.size = Pt(14)\n",
        "paragraph9.font.name = 'Times New Roman'  # Шрифт Times New Roman\n",
        "\n",
        "# Добавляем десятый абзац\n",
        "paragraph10 = content.add_paragraph()\n",
        "paragraph10.text = \"4. SVC: %.2f\" % (model4.score(X_test, y_test) * 100)\n",
        "paragraph10.font.size = Pt(14)\n",
        "paragraph10.font.name = 'Times New Roman'  # Шрифт Times New Roman"
      ]
    },
    {
      "cell_type": "code",
      "execution_count": 58,
      "metadata": {
        "id": "BuxW39nZreQg"
      },
      "outputs": [],
      "source": [
        "# добавим еще один слайд\n",
        "slide_layout = prs.slide_layouts[1]\n",
        "slide = prs.slides.add_slide(slide_layout)"
      ]
    },
    {
      "cell_type": "code",
      "execution_count": 59,
      "metadata": {
        "id": "xo5xDJvDreQg"
      },
      "outputs": [],
      "source": [
        "# Добавляем заголовок слайда\n",
        "title = slide.shapes.title\n",
        "title.text = \"Визуализируем результаты\""
      ]
    },
    {
      "cell_type": "code",
      "execution_count": 60,
      "metadata": {
        "id": "XWru_9_grkpc"
      },
      "outputs": [],
      "source": [
        "# Получаем объект TextFrame для содержимого слайда\n",
        "content = slide.shapes.placeholders[1].text_frame\n",
        "\n",
        "# Добавляем абзац\n",
        "paragraph = content.add_paragraph()\n",
        "paragraph.text = \"ROC кривая\"\n",
        "paragraph.font.name = 'Times New Roman'  # Шрифт Times New Roman\n",
        "\n",
        "# Добавляем изображение в содержимое слайда\n",
        "# центрируем изображение\n",
        "left = Inches(1)\n",
        "top = Inches(3)\n",
        "pic = slide.shapes.add_picture('Total_ROC.png', left, top, height=Inches(4))"
      ]
    },
    {
      "cell_type": "code",
      "execution_count": 61,
      "metadata": {
        "id": "52LvBaYYNsts"
      },
      "outputs": [],
      "source": [
        "# добавим еще один слайд\n",
        "slide_layout = prs.slide_layouts[1]\n",
        "slide = prs.slides.add_slide(slide_layout)"
      ]
    },
    {
      "cell_type": "code",
      "execution_count": 62,
      "metadata": {
        "id": "ghxS0adbOvla"
      },
      "outputs": [],
      "source": [
        "# Добавляем заголовок слайда\n",
        "title = slide.shapes.title\n",
        "title.text = \"Основные выводы\""
      ]
    },
    {
      "cell_type": "code",
      "execution_count": 63,
      "metadata": {
        "id": "AB6n6WKqNxxr"
      },
      "outputs": [],
      "source": [
        "# Получаем объект TextFrame для содержимого слайда\n",
        "content = slide.shapes.placeholders[1].text_frame\n",
        "\n",
        "# Добавляем первый абзац\n",
        "paragraph1 = content.add_paragraph()\n",
        "paragraph1.text = \"1. Наилучшая модель по ROC кривой: случайный лес\"\n",
        "paragraph1.font.size = Pt(16)\n",
        "paragraph1.font.name = 'Times New Roman'  # Шрифт Times New Roman\n",
        "\n",
        "# Добавляем второй абзац\n",
        "paragraph2 = content.add_paragraph()\n",
        "paragraph2.text = \"2. Наихудшая модель по ROC кривой: логистическая регрессия\"\n",
        "paragraph2.font.size = Pt(16)\n",
        "paragraph2.font.name = 'Times New Roman'  # Шрифт Times New Roman\n",
        "\n",
        "# Добавляем третий абзац\n",
        "paragraph3 = content.add_paragraph()\n",
        "paragraph3.text = \"3. Модель SVC Classification не рекомендуется из-за слишком долгого и медленного обучения и реализации\"\n",
        "paragraph3.font.size = Pt(16)\n",
        "paragraph3.font.name = 'Times New Roman'  # Шрифт Times New Roman\n",
        "\n",
        "# Добавляем четвертый абзац\n",
        "paragraph4 = content.add_paragraph()\n",
        "paragraph4.text = \"4. Модель случайного леса может быть использована в дальнейшем для прогнозирования значения целевой переменной bad_flag\"\n",
        "paragraph4.font.size = Pt(16)\n",
        "paragraph4.font.name = 'Times New Roman'  # Шрифт Times New Roman"
      ]
    },
    {
      "cell_type": "code",
      "execution_count": 64,
      "metadata": {
        "id": "5U3e5iXLUPH7"
      },
      "outputs": [],
      "source": [
        "# добавим еще один слайд\n",
        "slide_layout = prs.slide_layouts[1]\n",
        "slide = prs.slides.add_slide(slide_layout)"
      ]
    },
    {
      "cell_type": "code",
      "execution_count": 65,
      "metadata": {
        "id": "mfFU2XIYs69N"
      },
      "outputs": [],
      "source": [
        "# Размеры слайда (в дюймах)\n",
        "slide_width = prs.slide_width\n",
        "slide_height = prs.slide_height\n",
        "\n",
        "# Текст для центра слайда\n",
        "center_text = \"Спасибо за внимание!\"\n",
        "\n",
        "# Создаем текстовое поле для центрированного текста\n",
        "center_width = Inches(6)  # Ширина текстового поля\n",
        "center_height = Inches(1)  # Высота текстового поля\n",
        "center_left = (slide_width - center_width) / 2  # Центрируем по горизонтали\n",
        "center_top = (slide_height - center_height) / 2  # Центрируем по вертикали\n",
        "center_textbox = slide.shapes.add_textbox(center_left, center_top, center_width, center_height)\n",
        "center_text_frame = center_textbox.text_frame\n",
        "\n",
        "# Добавляем центрированный текст\n",
        "center_paragraph = center_text_frame.add_paragraph()\n",
        "center_paragraph.text = center_text\n",
        "center_paragraph.font.bold = True\n",
        "center_paragraph.font.size = Pt(24)\n",
        "center_paragraph.font.color.rgb = RGBColor(0, 0, 0)  # Черный цвет\n",
        "center_paragraph.alignment = PP_ALIGN.CENTER  # Выравнивание по горизонтали\n",
        "\n",
        "# Включаем автоматическое изменение размера текстового поля\n",
        "center_text_frame.auto_size = MSO_AUTO_SIZE.SHAPE_TO_FIT_TEXT\n",
        "\n",
        "# Текст для нижней части слайда\n",
        "bottom_text = \"(презентация создана в Python с использованием библиотеки python-pptx)\"\n",
        "\n",
        "# Создаем текстовое поле для текста внизу\n",
        "bottom_width = Inches(6)  # Ширина текстового поля\n",
        "bottom_height = Inches(1)  # Высота текстового поля\n",
        "bottom_left = (slide_width - bottom_width) / 2  # Центрируем по горизонтали\n",
        "bottom_top = slide_height - bottom_height - Inches(0.5)  # Размещаем внизу с небольшим отступом\n",
        "bottom_textbox = slide.shapes.add_textbox(bottom_left, bottom_top, bottom_width, bottom_height)\n",
        "bottom_text_frame = bottom_textbox.text_frame\n",
        "\n",
        "# Добавляем текст внизу\n",
        "bottom_paragraph = bottom_text_frame.add_paragraph()\n",
        "bottom_paragraph.text = bottom_text\n",
        "bottom_paragraph.font.bold = True\n",
        "bottom_paragraph.font.size = Pt(14)\n",
        "bottom_paragraph.font.color.rgb = RGBColor(255, 0, 0)  # Красный цвет\n",
        "bottom_paragraph.alignment = PP_ALIGN.CENTER  # Выравнивание по горизонтали\n",
        "\n",
        "# Включаем автоматическое изменение размера текстового поля\n",
        "bottom_text_frame.auto_size = MSO_AUTO_SIZE.SHAPE_TO_FIT_TEXT"
      ]
    },
    {
      "cell_type": "code",
      "execution_count": 66,
      "metadata": {
        "colab": {
          "base_uri": "https://localhost:8080/"
        },
        "id": "8wcWhVvSKZD2",
        "outputId": "db35814d-ed7f-4293-c394-15099d7b2d56"
      },
      "outputs": [
        {
          "output_type": "stream",
          "name": "stdout",
          "text": [
            "Презентация создана и сохранена как 'Presentation for Mokka.pptx'\n"
          ]
        }
      ],
      "source": [
        "# Сохраняем презентацию\n",
        "prs.save('Presentation for Mokka.pptx')\n",
        "print(\"Презентация создана и сохранена как 'Presentation for Mokka.pptx'\")"
      ]
    }
  ],
  "metadata": {
    "colab": {
      "provenance": [],
      "include_colab_link": true
    },
    "kernelspec": {
      "display_name": "Python 3",
      "language": "python",
      "name": "python3"
    },
    "language_info": {
      "codemirror_mode": {
        "name": "ipython",
        "version": 3
      },
      "file_extension": ".py",
      "mimetype": "text/x-python",
      "name": "python",
      "nbconvert_exporter": "python",
      "pygments_lexer": "ipython3",
      "version": "3.6.5"
    }
  },
  "nbformat": 4,
  "nbformat_minor": 0
}